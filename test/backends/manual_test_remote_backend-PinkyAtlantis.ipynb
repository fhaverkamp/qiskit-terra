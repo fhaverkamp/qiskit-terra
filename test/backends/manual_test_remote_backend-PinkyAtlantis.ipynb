{
 "cells": [
  {
   "cell_type": "code",
   "execution_count": 1,
   "metadata": {},
   "outputs": [],
   "source": [
    "import os \n",
    "import sys \n",
    "sys.path.insert(0,'../../')\n",
    "\n",
    "import qiskit.extensions.simulator  \n",
    "from qiskit import *\n",
    "\n",
    "import unittest\n",
    "import logging\n",
    "#import Qconfig\n",
    "#import QconfigQobj\n",
    "import QConfigCore\n",
    "import QConfigStaging\n",
    "from qiskit.backends.ibmq import IBMQProvider\n",
    "#register(Qconfig.APItoken)\n",
    "#register(QConfigQobj.APItoken, QConfigQobj.config['url'])\n",
    "core_provider = IBMQProvider(QConfigCore.APItoken, QConfigCore.config['url'])\n",
    "#unregister('ibmq_qasm_simulator')\n",
    "staging_provider = IBMQProvider(QConfigStaging.APItoken, QConfigStaging.config['url'])\n",
    "available_backends() # this is all the backends i have access to\n",
    "\n",
    "logger = logging.Logger('error')\n",
    "sys.path.append('../')"
   ]
  },
  {
   "cell_type": "code",
   "execution_count": 2,
   "metadata": {},
   "outputs": [
    {
     "data": {
      "text/plain": [
       "{'ibmq_1_atlantis': <qiskit.backends.ibmq.ibmqbackend.IBMQBackend at 0xa19028c50>,\n",
       " 'ibmq_qasm_simulator': <qiskit.backends.ibmq.ibmqbackend.IBMQBackend at 0xa190282b0>}"
      ]
     },
     "execution_count": 2,
     "metadata": {},
     "output_type": "execute_result"
    }
   ],
   "source": [
    "core_provider.backends"
   ]
  },
  {
   "cell_type": "code",
   "execution_count": 3,
   "metadata": {},
   "outputs": [
    {
     "data": {
      "text/plain": [
       "[<qiskit.backends.local.localprovider.LocalProvider at 0x11130cc50>]"
      ]
     },
     "execution_count": 3,
     "metadata": {},
     "output_type": "execute_result"
    }
   ],
   "source": [
    "qiskit.registered_providers()"
   ]
  },
  {
   "cell_type": "code",
   "execution_count": 4,
   "metadata": {},
   "outputs": [
    {
     "data": {
      "text/plain": [
       "['local_qasm_simulator',\n",
       " 'local_statevector_simulator',\n",
       " 'local_unitary_simulator']"
      ]
     },
     "execution_count": 4,
     "metadata": {},
     "output_type": "execute_result"
    }
   ],
   "source": [
    "available_backends()"
   ]
  },
  {
   "cell_type": "code",
   "execution_count": 5,
   "metadata": {},
   "outputs": [],
   "source": [
    "backends = ['ibmqx_hpc_qasm_simulator','ibmq_1_atlantis','ibmq_qasm_simulator'] "
   ]
  },
  {
   "cell_type": "code",
   "execution_count": 6,
   "metadata": {},
   "outputs": [],
   "source": [
    "from qiskit.backends.ibmq import IBMQProvider\n",
    "from python.common import Path, QiskitTestCase, requires_qe_access, slow_test\n",
    "\n",
    "\n",
    "class TestBackendQobj(QiskitTestCase):\n",
    "    \"\"\"Qiskit backend qobj test.\"\"\"\n",
    "    \n",
    "    def __init__(self, backend, *args, **kwargs):\n",
    "        self.backend = backend\n",
    "        super(TestBackendQobj, self).__init__(*args, **kwargs)\n",
    "    \n",
    "    def test_operational(self):\n",
    "        local = get_backend('local_qasm_simulator')\n",
    "        remote = self.backend\n",
    "        self.assertTrue(remote.status()['operational'])\n",
    "    \n",
    "    def test_allow_qobj(self):\n",
    "        local = get_backend('local_qasm_simulator')\n",
    "        remote = self.backend\n",
    "        self.assertTrue(remote.configuration()['allow_q_object'])\n",
    "    def test_one_qubit_no_operation(self):\n",
    "        \"\"\"Test one circuit, one register, in-order readout.\n",
    "        \"\"\"\n",
    "        qr = QuantumRegister(1)\n",
    "        cr = ClassicalRegister(1)\n",
    "        circ = QuantumCircuit(qr, cr)\n",
    "        circ.measure(qr[0], cr[0])\n",
    "        local = get_backend('local_qasm_simulator')\n",
    "        remote = self.backend\n",
    "        qobj = compile(circ, remote)\n",
    "        result_remote = remote.run(qobj).result()\n",
    "        result_local = local.run(qobj).result()\n",
    "        self.assertDictAlmostEqual(result_remote.get_counts(circ),\n",
    "                              result_local.get_counts(circ),delta=50)\n",
    "        \n",
    "    def test_one_qubit_operation(self):\n",
    "        \"\"\"Test one circuit, one register, in-order readout.\n",
    "        \"\"\"\n",
    "        qr = QuantumRegister(1)\n",
    "        cr = ClassicalRegister(1)\n",
    "        circ = QuantumCircuit(qr, cr)\n",
    "        circ.x(qr[0])\n",
    "        circ.measure(qr[0], cr[0])\n",
    "        local = get_backend('local_qasm_simulator')\n",
    "        remote = self.backend\n",
    "        qobj = compile(circ, remote)\n",
    "        result_remote = remote.run(qobj).result()\n",
    "        result_local = local.run(qobj).result()\n",
    "        self.assertDictAlmostEqual(result_remote.get_counts(circ),\n",
    "                              result_local.get_counts(circ),delta=50)\n",
    "        \n",
    "    def test_simple_circuit(self):\n",
    "        \"\"\"Test one circuit, one register, in-order readout.\n",
    "        \"\"\"\n",
    "        qr = QuantumRegister(4)\n",
    "        cr = ClassicalRegister(4)\n",
    "        circ = QuantumCircuit(qr, cr)\n",
    "        circ.x(qr[0])\n",
    "        circ.x(qr[2])\n",
    "        circ.measure(qr[0], cr[0])\n",
    "        circ.measure(qr[1], cr[1])\n",
    "        circ.measure(qr[2], cr[2])\n",
    "        circ.measure(qr[3], cr[3])\n",
    "        local = get_backend('local_qasm_simulator')\n",
    "        remote = self.backend\n",
    "        qobj = compile(circ, remote)\n",
    "        result_remote = remote.run(qobj).result()\n",
    "        result_local = local.run(qobj).result()\n",
    "        self.assertDictAlmostEqual(result_remote.get_counts(circ),\n",
    "                              result_local.get_counts(circ),delta=50)\n",
    "\n",
    "\n",
    "    def test_readout_order(self):\n",
    "        \"\"\"Test one circuit, one register, out-of-order readout.\n",
    "        \"\"\"\n",
    "        qr = QuantumRegister(4)\n",
    "        cr = ClassicalRegister(4)\n",
    "        circ = QuantumCircuit(qr, cr)\n",
    "        #circ.x(qr[0])\n",
    "        #circ.x(qr[2])\n",
    "        circ.measure(qr[0], cr[2])\n",
    "        circ.measure(qr[1], cr[0])\n",
    "        circ.measure(qr[2], cr[1])\n",
    "        circ.measure(qr[3], cr[3])\n",
    "        local = get_backend('local_qasm_simulator')\n",
    "        remote = self.backend\n",
    "        qobj_remote = compile(circ, remote)\n",
    "        qobj_local = compile(circ, local)\n",
    "        result_remote = remote.run(qobj_remote).result()\n",
    "        result_local = local.run(qobj_local).result()\n",
    "        self.assertDictAlmostEqual(result_remote.get_counts(circ),\n",
    "                              result_local.get_counts(circ),delta=50)\n",
    "\n",
    "                \n",
    "    def test_multi_register(self):\n",
    "        \"\"\"Test one circuit, two registers, out-of-order readout.\n",
    "        \"\"\"\n",
    "        qr1 = QuantumRegister(2)\n",
    "        qr2 = QuantumRegister(2)\n",
    "        cr1 = ClassicalRegister(3)\n",
    "        cr2 = ClassicalRegister(1)\n",
    "        circ = QuantumCircuit(qr1, qr2, cr1, cr2)\n",
    "        circ.h(qr1[0])\n",
    "        circ.cx(qr1[0], qr2[1])\n",
    "        circ.h(qr2[0])\n",
    "        circ.cx(qr2[0], qr1[1])\n",
    "        circ.x(qr1[1])\n",
    "        circ.measure(qr1[0], cr2[0])\n",
    "        circ.measure(qr1[1], cr1[0])\n",
    "        circ.measure(qr1[1], cr2[0])\n",
    "        circ.measure(qr1[1], cr1[2])\n",
    "        circ.measure(qr2[0], cr1[2])\n",
    "        circ.measure(qr2[1], cr1[1])\n",
    "        local = get_backend('local_qasm_simulator')\n",
    "        remote = self.backend\n",
    "        qobj = compile(circ, remote)\n",
    "        result_remote = remote.run(qobj).result()\n",
    "        result_local = local.run(qobj).result()\n",
    "        self.assertDictAlmostEqual(result_remote.get_counts(circ),\n",
    "                              result_local.get_counts(circ),delta=50)\n",
    "\n",
    "    def test_multi_circuit(self):\n",
    "        \"\"\"Test two circuits, two registers, out-of-order readout.\n",
    "        \"\"\"\n",
    "        qr1 = QuantumRegister(2)\n",
    "        qr2 = QuantumRegister(2)\n",
    "        cr1 = ClassicalRegister(3)\n",
    "        cr2 = ClassicalRegister(1)\n",
    "        circ1 = QuantumCircuit(qr1, qr2, cr1, cr2)\n",
    "        circ1.h(qr1[0])\n",
    "        circ1.cx(qr1[0], qr2[1])\n",
    "        circ1.h(qr2[0])\n",
    "        circ1.cx(qr2[0], qr1[1])\n",
    "        circ1.x(qr1[1])\n",
    "        circ1.measure(qr1[0], cr2[0])\n",
    "        circ1.measure(qr1[1], cr1[0])\n",
    "        circ1.measure(qr1[0], cr2[0])\n",
    "        circ1.measure(qr1[1], cr1[2])\n",
    "        circ1.measure(qr2[0], cr1[2])\n",
    "        circ1.measure(qr2[1], cr1[1])\n",
    "        circ2 = QuantumCircuit(qr1, qr2, cr1)\n",
    "        circ2.h(qr1[0])\n",
    "        circ2.cx(qr1[0], qr1[1])\n",
    "        circ2.h(qr2[1])\n",
    "        circ2.cx(qr2[1], qr1[1])\n",
    "        circ2.measure(qr1[0], cr1[0])\n",
    "        circ2.measure(qr1[1], cr1[1])\n",
    "        circ2.measure(qr1[0], cr1[2])\n",
    "        circ2.measure(qr2[1], cr1[2])\n",
    "        local = get_backend('local_qasm_simulator')\n",
    "        remote = self.backend\n",
    "\n",
    "        qobj = compile([circ1, circ2], remote)\n",
    "        result_remote = remote.run(qobj).result()\n",
    "        result_local = local.run(qobj).result()\n",
    "        self.assertDictAlmostEqual(result_remote.get_counts(circ1),\n",
    "                              result_local.get_counts(circ1),delta=50)\n",
    "        self.assertDictAlmostEqual(result_remote.get_counts(circ2),\n",
    "                              result_local.get_counts(circ2),delta=50)\n",
    "    \n",
    "    def test_conditional_operation(self):\n",
    "        \"\"\"Test conditional operation. \n",
    "        \"\"\"\n",
    "        qr = QuantumRegister(4)\n",
    "        cr = ClassicalRegister(4)\n",
    "        circ = QuantumCircuit(qr, cr)\n",
    "        circ.x(qr[0])\n",
    "        circ.x(qr[2])\n",
    "        circ.measure(qr[0], cr[0])\n",
    "        circ.x(qr[0]).c_if(cr,1)\n",
    "        local = get_backend('local_qasm_simulator')\n",
    "        remote = self.backend\n",
    "\n",
    "        qobj = compile(circ, remote)\n",
    "        result_remote = remote.run(qobj).result()\n",
    "        result_local = local.run(qobj).result()\n",
    "        self.assertDictAlmostEqual(result_remote.get_counts(circ),\n",
    "                              result_local.get_counts(circ),delta=50)\n",
    "    \n",
    "    def test_erick_circuit(self):\n",
    "        \"\"\"Test one circuit, one register, in-order readout.\n",
    "        \"\"\"\n",
    "        qr = QuantumRegister(3)\n",
    "        cr = ClassicalRegister(3)\n",
    "        circ= QuantumCircuit(qr, cr)\n",
    "        circ.x(qr[0])\n",
    "        circ.x(qr[2])\n",
    "        circ.measure(qr, cr)\n",
    "        local = get_backend('local_qasm_simulator')\n",
    "        remote = self.backend\n",
    "        qobj = compile(circ, remote)\n",
    "        result_remote = remote.run(qobj).result()\n",
    "        result_local = local.run(qobj).result()\n",
    "        self.assertDictAlmostEqual(result_remote.get_counts(circ),\n",
    "                              result_local.get_counts(circ),delta=50)"
   ]
  },
  {
   "cell_type": "code",
   "execution_count": 7,
   "metadata": {},
   "outputs": [],
   "source": [
    "def test_backend(backend,name=None):\n",
    "    if name is None:\n",
    "        name = str(backend)\n",
    "    print(\"Testing: {}\".format(name))\n",
    "    testbackend = TestBackendQobj(backend)\n",
    "    test_methods = [testbackend.test_erick_circuit, testbackend.test_allow_qobj,testbackend.test_operational,testbackend.test_one_qubit_operation,\n",
    "                    testbackend.test_one_qubit_no_operation,testbackend.test_multi_circuit,testbackend.test_multi_register,\n",
    "               testbackend.test_readout_order,testbackend.test_simple_circuit,testbackend.test_conditional_operation]\n",
    "\n",
    "    failed = 0 \n",
    "    for test in test_methods:\n",
    "        try:\n",
    "            test()\n",
    "            print('.',end='')\n",
    "        except Exception as err:\n",
    "            failed += 1\n",
    "            print('x',end='')\n",
    "            logger.warning(err)\n",
    "            logger.error('test failed:{}'.format(str(test)))\n",
    "    print('\\n {0} of {1} tests failed'.format(failed,len(test_methods)))"
   ]
  },
  {
   "cell_type": "code",
   "execution_count": 8,
   "metadata": {},
   "outputs": [
    {
     "data": {
      "text/plain": [
       "{'ibmq_1_atlantis': <qiskit.backends.ibmq.ibmqbackend.IBMQBackend at 0xa19028c50>,\n",
       " 'ibmq_qasm_simulator': <qiskit.backends.ibmq.ibmqbackend.IBMQBackend at 0xa190282b0>}"
      ]
     },
     "execution_count": 8,
     "metadata": {},
     "output_type": "execute_result"
    }
   ],
   "source": [
    "core_provider.backends"
   ]
  },
  {
   "cell_type": "code",
   "execution_count": 9,
   "metadata": {},
   "outputs": [
    {
     "name": "stdout",
     "output_type": "stream",
     "text": [
      "Testing: ibmq_1_atlantis\n"
     ]
    },
    {
     "name": "stderr",
     "output_type": "stream",
     "text": [
      "('0x2': 1024 != 0), ('101': 0 != 1024) within 50 delta\n",
      "test failed:<bound method TestBackendQobj.test_erick_circuit of <__main__.TestBackendQobj testMethod=runTest>>\n"
     ]
    },
    {
     "name": "stdout",
     "output_type": "stream",
     "text": [
      "x.."
     ]
    },
    {
     "name": "stderr",
     "output_type": "stream",
     "text": [
      "('0x0': 1024 != 0), ('1': 0 != 1024) within 50 delta\n",
      "test failed:<bound method TestBackendQobj.test_one_qubit_operation of <__main__.TestBackendQobj testMethod=runTest>>\n"
     ]
    },
    {
     "name": "stdout",
     "output_type": "stream",
     "text": [
      "x"
     ]
    },
    {
     "name": "stderr",
     "output_type": "stream",
     "text": [
      "('0x0': 1017 != 0), ('0': 0 != 1024) within 50 delta\n",
      "test failed:<bound method TestBackendQobj.test_one_qubit_no_operation of <__main__.TestBackendQobj testMethod=runTest>>\n"
     ]
    },
    {
     "name": "stdout",
     "output_type": "stream",
     "text": [
      "x"
     ]
    },
    {
     "name": "stderr",
     "output_type": "stream",
     "text": [
      "('0x4': 1024 != 0), ('1 110': 0 != 257), ('0 100': 0 != 246), ('0 001': 0 != 246), ('1 011': 0 != 275) within 50 delta\n",
      "test failed:<bound method TestBackendQobj.test_multi_circuit of <__main__.TestBackendQobj testMethod=runTest>>\n"
     ]
    },
    {
     "name": "stdout",
     "output_type": "stream",
     "text": [
      "x"
     ]
    },
    {
     "name": "stderr",
     "output_type": "stream",
     "text": [
      "('0x4': 1024 != 0), ('1 001': 0 != 266), ('0 110': 0 != 265), ('0 100': 0 != 268), ('1 011': 0 != 225) within 50 delta\n",
      "test failed:<bound method TestBackendQobj.test_multi_register of <__main__.TestBackendQobj testMethod=runTest>>\n"
     ]
    },
    {
     "name": "stdout",
     "output_type": "stream",
     "text": [
      "x"
     ]
    },
    {
     "name": "stderr",
     "output_type": "stream",
     "text": [
      "('0x0': 1020 != 0), ('0000': 0 != 1024) within 50 delta\n",
      "test failed:<bound method TestBackendQobj.test_readout_order of <__main__.TestBackendQobj testMethod=runTest>>\n"
     ]
    },
    {
     "name": "stdout",
     "output_type": "stream",
     "text": [
      "x"
     ]
    },
    {
     "name": "stderr",
     "output_type": "stream",
     "text": [
      "('0x2': 1024 != 0), ('0101': 0 != 1024) within 50 delta\n",
      "test failed:<bound method TestBackendQobj.test_simple_circuit of <__main__.TestBackendQobj testMethod=runTest>>\n",
      "internal error\n",
      "test failed:<bound method TestBackendQobj.test_conditional_operation of <__main__.TestBackendQobj testMethod=runTest>>\n"
     ]
    },
    {
     "name": "stdout",
     "output_type": "stream",
     "text": [
      "xx\n",
      " 8 of 10 tests failed\n"
     ]
    }
   ],
   "source": [
    "#ibmq atlantis\n",
    "name = 'ibmq_1_atlantis'\n",
    "backend = core_provider.backends[name]\n",
    "test_backend(backend,name)"
   ]
  },
  {
   "cell_type": "code",
   "execution_count": null,
   "metadata": {},
   "outputs": [],
   "source": []
  }
 ],
 "metadata": {
  "kernelspec": {
   "display_name": "Python 3",
   "language": "python",
   "name": "python3"
  },
  "language_info": {
   "codemirror_mode": {
    "name": "ipython",
    "version": 3
   },
   "file_extension": ".py",
   "mimetype": "text/x-python",
   "name": "python",
   "nbconvert_exporter": "python",
   "pygments_lexer": "ipython3",
   "version": "3.6.6"
  }
 },
 "nbformat": 4,
 "nbformat_minor": 2
}
