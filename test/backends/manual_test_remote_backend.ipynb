{
 "cells": [
  {
   "cell_type": "code",
   "execution_count": 1,
   "metadata": {},
   "outputs": [],
   "source": [
    "import qiskit.extensions.simulator  \n",
    "from qiskit import (QuantumRegister, ClassicalRegister,QuantumCircuit,\n",
    "                   get_backend,compile)\n",
    "\n",
    "import os \n",
    "import sys \n",
    "import unittest\n",
    "import logging\n",
    "logger = logging.Logger('error')\n",
    "sys.path.append('../')"
   ]
  },
  {
   "cell_type": "code",
   "execution_count": 2,
   "metadata": {},
   "outputs": [],
   "source": [
    "from qiskit import store_credentials\n",
    "import json\n",
    "with open(os.environ['QCONFIG'],'r') as f:\n",
    "    local_config = json.loads(f.read())\n",
    "\n",
    "qe_token = local_config['APItoken']\n",
    "qe_url = local_config['config']['url']\n",
    "backends = ['ibmqx_hpc_qasm_simulator','ibmq_qasm_simulator'] "
   ]
  },
  {
   "cell_type": "code",
   "execution_count": 3,
   "metadata": {},
   "outputs": [],
   "source": [
    "from qiskit.backends.ibmq import IBMQProvider\n",
    "from python.common import Path, QiskitTestCase, requires_qe_access, slow_test\n",
    "\n",
    "\n",
    "class TestBackendQobj(QiskitTestCase):\n",
    "    \"\"\"Qiskit backend qobj test.\"\"\"\n",
    "    \n",
    "\n",
    "    def test_simple_circuit(self):\n",
    "        \"\"\"Test one circuit, one register, in-order readout.\n",
    "        \"\"\"\n",
    "        qr = QuantumRegister(4)\n",
    "        cr = ClassicalRegister(4)\n",
    "        circ = QuantumCircuit(qr, cr)\n",
    "        circ.x(qr[0])\n",
    "        circ.x(qr[2])\n",
    "        circ.measure(qr[0], cr[0])\n",
    "        circ.measure(qr[1], cr[1])\n",
    "        circ.measure(qr[2], cr[2])\n",
    "        circ.measure(qr[3], cr[3])\n",
    "        local = get_backend('local_qasm_simulator')\n",
    "        ibmq_provider = IBMQProvider(qe_token, qe_url)\n",
    "        remotes = ibmq_provider.available_backends()\n",
    "        for remote in remotes:\n",
    "            #self.log.info(remote.status())\n",
    "            if remote.configuration()['name'] == backend:\n",
    "                self.assertTrue(remote.status()['operational'])\n",
    "                self.assertTrue(remote.configuration()['allow_q_object'])\n",
    "                qobj = compile(circ, remote)\n",
    "                result_remote = remote.run(qobj).result()\n",
    "                result_local = local.run(qobj).result()\n",
    "                self.assertDictAlmostEqual(result_remote.get_counts(circ),\n",
    "                                      result_local.get_counts(circ))\n",
    "\n",
    "\n",
    "    def test_readout_order(self):\n",
    "        \"\"\"Test one circuit, one register, out-of-order readout.\n",
    "        \"\"\"\n",
    "        qr = QuantumRegister(4)\n",
    "        cr = ClassicalRegister(4)\n",
    "        circ = QuantumCircuit(qr, cr)\n",
    "        circ.x(qr[0])\n",
    "        circ.x(qr[2])\n",
    "        circ.measure(qr[0], cr[2])\n",
    "        circ.measure(qr[1], cr[0])\n",
    "        circ.measure(qr[2], cr[1])\n",
    "        circ.measure(qr[3], cr[3])\n",
    "        local = get_backend('local_qasm_simulator')\n",
    "        ibmq_provider = IBMQProvider(qe_token, qe_url)\n",
    "        remotes = ibmq_provider.available_backends()\n",
    "        for remote in remotes:\n",
    "            #self.log.info(remote.status())\n",
    "            if remote.configuration()['name'] == backend:\n",
    "                self.assertTrue(remote.status()['operational'])\n",
    "                self.assertTrue(remote.configuration()['allow_q_object'])\n",
    "                qobj = compile(circ, remote)\n",
    "                result_remote = remote.run(qobj).result()\n",
    "                result_local = local.run(qobj).result()\n",
    "                self.assertDictAlmostEqual(result_remote.get_counts(circ),\n",
    "                                      result_local.get_counts(circ))\n",
    "\n",
    "                \n",
    "    def test_multi_register(self):\n",
    "        \"\"\"Test one circuit, two registers, out-of-order readout.\n",
    "        \"\"\"\n",
    "        qr1 = QuantumRegister(4)\n",
    "        qr2 = QuantumRegister(2)\n",
    "        cr1 = ClassicalRegister(3)\n",
    "        cr2 = ClassicalRegister(1)\n",
    "        circ = QuantumCircuit(qr1, qr2, cr1, cr2)\n",
    "        circ.h(qr1[0])\n",
    "        circ.cx(qr1[0], qr2[1])\n",
    "        circ.h(qr2[0])\n",
    "        circ.cx(qr2[0], qr1[3])\n",
    "        circ.x(qr1[1])\n",
    "        circ.measure(qr1[0], cr2[0])\n",
    "        circ.measure(qr1[1], cr1[0])\n",
    "        circ.measure(qr1[2], cr2[0])\n",
    "        circ.measure(qr1[3], cr1[2])\n",
    "        circ.measure(qr2[0], cr1[2])\n",
    "        circ.measure(qr2[1], cr1[1])\n",
    "        local = get_backend('local_qasm_simulator')\n",
    "        ibmq_provider = IBMQProvider(qe_token, qe_url)\n",
    "        remotes = ibmq_provider.available_backends()\n",
    "        for remote in remotes:\n",
    "            #self.log.info(remote.status())\n",
    "            if remote.configuration()['name'] == backend:\n",
    "                self.assertTrue(remote.status()['operational'])\n",
    "                self.assertTrue(remote.configuration()['allow_q_object'])\n",
    "                qobj = compile(circ, remote)\n",
    "                result_remote = remote.run(qobj).result()\n",
    "                result_local = local.run(qobj).result()\n",
    "                self.assertDictAlmostEqual(result_remote.get_counts(circ),\n",
    "                                      result_local.get_counts(circ),delta=50)\n",
    "\n",
    "    def test_multi_circuit(self):\n",
    "        \"\"\"Test two circuits, two registers, out-of-order readout.\n",
    "        \"\"\"\n",
    "        qr1 = QuantumRegister(4)\n",
    "        qr2 = QuantumRegister(2)\n",
    "        cr1 = ClassicalRegister(3)\n",
    "        cr2 = ClassicalRegister(1)\n",
    "        circ1 = QuantumCircuit(qr1, qr2, cr1, cr2)\n",
    "        circ1.h(qr1[0])\n",
    "        circ1.cx(qr1[0], qr2[1])\n",
    "        circ1.h(qr2[0])\n",
    "        circ1.cx(qr2[0], qr1[3])\n",
    "        circ1.x(qr1[1])\n",
    "        circ1.measure(qr1[0], cr2[0])\n",
    "        circ1.measure(qr1[1], cr1[0])\n",
    "        circ1.measure(qr1[2], cr2[0])\n",
    "        circ1.measure(qr1[3], cr1[2])\n",
    "        circ1.measure(qr2[0], cr1[2])\n",
    "        circ1.measure(qr2[1], cr1[1])\n",
    "        circ2 = QuantumCircuit(qr1, qr2, cr1)\n",
    "        circ2.h(qr1[0])\n",
    "        circ2.cx(qr1[0], qr1[3])\n",
    "        circ2.h(qr2[1])\n",
    "        circ2.cx(qr2[1], qr1[3])\n",
    "        circ2.measure(qr1[0], cr1[0])\n",
    "        circ2.measure(qr1[1], cr1[1])\n",
    "        circ2.measure(qr1[2], cr1[2])\n",
    "        circ2.measure(qr2[1], cr1[2])\n",
    "        local = get_backend('local_qasm_simulator')\n",
    "        ibmq_provider = IBMQProvider(qe_token, qe_url)\n",
    "        remotes = ibmq_provider.available_backends()\n",
    "        for remote in remotes:\n",
    "            #self.log.info(remote.status())\n",
    "            if remote.configuration()['name'] == backend:\n",
    "                    self.assertTrue(remote.status()['operational'])\n",
    "                    self.assertTrue(remote.configuration()['allow_q_object'])\n",
    "                 \n",
    "                    qobj = compile([circ1, circ2], remote)\n",
    "                    result_remote = remote.run(qobj).result()\n",
    "                    result_local = local.run(qobj).result()\n",
    "                    self.assertDictAlmostEqual(result_remote.get_counts(circ1),\n",
    "                                          result_local.get_counts(circ1),delta=50)\n",
    "                    self.assertDictAlmostEqual(result_remote.get_counts(circ2),\n",
    "                                          result_local.get_counts(circ2),delta=50)\n",
    "    \n",
    "    def test_conditional_operation(self):\n",
    "        \"\"\"Test conditional operation. \n",
    "        \"\"\"\n",
    "        qr = QuantumRegister(4)\n",
    "        cr = ClassicalRegister(4)\n",
    "        circ = QuantumCircuit(qr, cr)\n",
    "        circ.x(qr[0])\n",
    "        circ.x(qr[2])\n",
    "        circ.measure(qr[0], cr[0])\n",
    "        circ.x(qr[0]).c_if(cr,1)\n",
    "        local = get_backend('local_qasm_simulator')\n",
    "        ibmq_provider = IBMQProvider(qe_token, qe_url)\n",
    "        remotes = ibmq_provider.available_backends()\n",
    "        for remote in remotes:\n",
    "            #self.log.info(remote.status())\n",
    "            if remote.configuration()['name'] == backend:\n",
    "                self.assertTrue(remote.status()['operational'])\n",
    "                self.assertTrue(remote.configuration()['allow_q_object'])\n",
    "                qobj = compile(circ, remote)\n",
    "                result_remote = remote.run(qobj).result()\n",
    "                result_local = local.run(qobj).result()\n",
    "                self.assertDictAlmostEqual(result_remote.get_counts(circ),\n",
    "                                      result_local.get_counts(circ))\n"
   ]
  },
  {
   "cell_type": "code",
   "execution_count": 4,
   "metadata": {},
   "outputs": [
    {
     "name": "stdout",
     "output_type": "stream",
     "text": [
      ".....\n",
      " 0 of 5 tests failed\n"
     ]
    }
   ],
   "source": [
    "#normal qasm simulator \n",
    "backend = backends[1]\n",
    "testbackend = TestBackendQobj()\n",
    "test_methods = [testbackend.test_multi_circuit,testbackend.test_multi_register,\n",
    "           testbackend.test_readout_order,testbackend.test_simple_circuit,testbackend.test_conditional_operation]\n",
    "\n",
    "failed = 0 \n",
    "for test in test_methods:\n",
    "    try:\n",
    "        test()\n",
    "        print('.',end='')\n",
    "    except Exception as err:\n",
    "        failed += 1\n",
    "        print('x',end='')\n",
    "        logger.warning(err)\n",
    "        import pdb;pdb.set_trace()\n",
    "        logger.error('test failed:{}'.format(str(test)))\n",
    "print('\\n {0} of {1} tests failed'.format(failed,len(test_methods)))"
   ]
  },
  {
   "cell_type": "code",
   "execution_count": 5,
   "metadata": {},
   "outputs": [
    {
     "name": "stderr",
     "output_type": "stream",
     "text": [
      "Got a 204 code response to https://q-console-api-staging.mybluemix.net/api/Backends/ibmqx_hpc_qasm_simulator/queue/status: \n",
      "Got a 204 code response to https://q-console-api-staging.mybluemix.net/api/Backends/ibmqx_hpc_qasm_simulator/queue/status: \n",
      "Got a 204 code response to https://q-console-api-staging.mybluemix.net/api/Backends/ibmqx_hpc_qasm_simulator/queue/status: \n",
      "Got a 204 code response to https://q-console-api-staging.mybluemix.net/api/Backends/ibmqx_hpc_qasm_simulator/queue/status: \n",
      "Got a 204 code response to https://q-console-api-staging.mybluemix.net/api/Backends/ibmqx_hpc_qasm_simulator/queue/status: \n",
      "Couldn't get backend status: Expecting value: line 1 column 1 (char 0)\n",
      "test failed:<bound method TestBackendQobj.test_multi_circuit of <__main__.TestBackendQobj testMethod=runTest>>\n"
     ]
    },
    {
     "name": "stdout",
     "output_type": "stream",
     "text": [
      "x"
     ]
    },
    {
     "name": "stderr",
     "output_type": "stream",
     "text": [
      "Got a 204 code response to https://q-console-api-staging.mybluemix.net/api/Backends/ibmqx_hpc_qasm_simulator/queue/status: \n",
      "Got a 204 code response to https://q-console-api-staging.mybluemix.net/api/Backends/ibmqx_hpc_qasm_simulator/queue/status: \n",
      "Got a 204 code response to https://q-console-api-staging.mybluemix.net/api/Backends/ibmqx_hpc_qasm_simulator/queue/status: \n",
      "Got a 204 code response to https://q-console-api-staging.mybluemix.net/api/Backends/ibmqx_hpc_qasm_simulator/queue/status: \n",
      "Got a 204 code response to https://q-console-api-staging.mybluemix.net/api/Backends/ibmqx_hpc_qasm_simulator/queue/status: \n",
      "Couldn't get backend status: Expecting value: line 1 column 1 (char 0)\n",
      "test failed:<bound method TestBackendQobj.test_multi_register of <__main__.TestBackendQobj testMethod=runTest>>\n"
     ]
    },
    {
     "name": "stdout",
     "output_type": "stream",
     "text": [
      "x"
     ]
    },
    {
     "name": "stderr",
     "output_type": "stream",
     "text": [
      "Got a 204 code response to https://q-console-api-staging.mybluemix.net/api/Backends/ibmqx_hpc_qasm_simulator/queue/status: \n",
      "Got a 204 code response to https://q-console-api-staging.mybluemix.net/api/Backends/ibmqx_hpc_qasm_simulator/queue/status: \n",
      "Got a 204 code response to https://q-console-api-staging.mybluemix.net/api/Backends/ibmqx_hpc_qasm_simulator/queue/status: \n",
      "Got a 204 code response to https://q-console-api-staging.mybluemix.net/api/Backends/ibmqx_hpc_qasm_simulator/queue/status: \n",
      "Got a 204 code response to https://q-console-api-staging.mybluemix.net/api/Backends/ibmqx_hpc_qasm_simulator/queue/status: \n",
      "Couldn't get backend status: Expecting value: line 1 column 1 (char 0)\n",
      "test failed:<bound method TestBackendQobj.test_readout_order of <__main__.TestBackendQobj testMethod=runTest>>\n"
     ]
    },
    {
     "name": "stdout",
     "output_type": "stream",
     "text": [
      "x"
     ]
    },
    {
     "name": "stderr",
     "output_type": "stream",
     "text": [
      "Got a 204 code response to https://q-console-api-staging.mybluemix.net/api/Backends/ibmqx_hpc_qasm_simulator/queue/status: \n",
      "Got a 204 code response to https://q-console-api-staging.mybluemix.net/api/Backends/ibmqx_hpc_qasm_simulator/queue/status: \n",
      "Got a 204 code response to https://q-console-api-staging.mybluemix.net/api/Backends/ibmqx_hpc_qasm_simulator/queue/status: \n",
      "Got a 204 code response to https://q-console-api-staging.mybluemix.net/api/Backends/ibmqx_hpc_qasm_simulator/queue/status: \n",
      "Got a 204 code response to https://q-console-api-staging.mybluemix.net/api/Backends/ibmqx_hpc_qasm_simulator/queue/status: \n",
      "Couldn't get backend status: Expecting value: line 1 column 1 (char 0)\n",
      "test failed:<bound method TestBackendQobj.test_simple_circuit of <__main__.TestBackendQobj testMethod=runTest>>\n"
     ]
    },
    {
     "name": "stdout",
     "output_type": "stream",
     "text": [
      "x"
     ]
    },
    {
     "name": "stderr",
     "output_type": "stream",
     "text": [
      "Got a 204 code response to https://q-console-api-staging.mybluemix.net/api/Backends/ibmqx_hpc_qasm_simulator/queue/status: \n",
      "Got a 204 code response to https://q-console-api-staging.mybluemix.net/api/Backends/ibmqx_hpc_qasm_simulator/queue/status: \n",
      "Got a 204 code response to https://q-console-api-staging.mybluemix.net/api/Backends/ibmqx_hpc_qasm_simulator/queue/status: \n",
      "Got a 204 code response to https://q-console-api-staging.mybluemix.net/api/Backends/ibmqx_hpc_qasm_simulator/queue/status: \n",
      "Got a 204 code response to https://q-console-api-staging.mybluemix.net/api/Backends/ibmqx_hpc_qasm_simulator/queue/status: \n",
      "Couldn't get backend status: Expecting value: line 1 column 1 (char 0)\n",
      "test failed:<bound method TestBackendQobj.test_conditional_operation of <__main__.TestBackendQobj testMethod=runTest>>\n"
     ]
    },
    {
     "name": "stdout",
     "output_type": "stream",
     "text": [
      "x\n",
      " 5 of 5 tests failed\n"
     ]
    }
   ],
   "source": [
    "#hpc simulator\n",
    "backend = backends[0]\n",
    "\n",
    "failed = 0 \n",
    "for test in test_methods:\n",
    "    try:\n",
    "        test()\n",
    "        print('.',end='')\n",
    "    except Exception as err:\n",
    "        failed += 1\n",
    "        print('x',end='')\n",
    "        logger.warning(err)\n",
    "        logger.error('test failed:{}'.format(str(test)))\n",
    "print('\\n {0} of {1} tests failed'.format(failed,len(test_methods)))"
   ]
  },
  {
   "cell_type": "code",
   "execution_count": null,
   "metadata": {},
   "outputs": [],
   "source": []
  }
 ],
 "metadata": {
  "kernelspec": {
   "display_name": "Python 3",
   "language": "python",
   "name": "python3"
  },
  "language_info": {
   "codemirror_mode": {
    "name": "ipython",
    "version": 3
   },
   "file_extension": ".py",
   "mimetype": "text/x-python",
   "name": "python",
   "nbconvert_exporter": "python",
   "pygments_lexer": "ipython3",
   "version": "3.6.6"
  }
 },
 "nbformat": 4,
 "nbformat_minor": 2
}
