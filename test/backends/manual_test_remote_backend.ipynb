{
 "cells": [
  {
   "cell_type": "code",
   "execution_count": 1,
   "metadata": {},
   "outputs": [],
   "source": [
    "import os \n",
    "import sys \n",
    "sys.path.insert(0,'../../')\n",
    "\n",
    "import qiskit.extensions.simulator  \n",
    "from qiskit import *\n",
    "\n",
    "import unittest\n",
    "import logging\n",
    "#import Qconfig\n",
    "#import QconfigQobj\n",
    "import QConfigCore\n",
    "import QConfigStaging\n",
    "from qiskit.backends.ibmq import IBMQProvider\n",
    "#register(Qconfig.APItoken)\n",
    "#register(QConfigQobj.APItoken, QConfigQobj.config['url'])\n",
    "core_provider = IBMQProvider(QConfigCore.APItoken, QConfigCore.config['url'])\n",
    "#unregister('ibmq_qasm_simulator')\n",
    "staging_provider = IBMQProvider(QConfigStaging.APItoken, QConfigStaging.config['url'])\n",
    "available_backends() # this is all the backends i have access to\n",
    "\n",
    "logger = logging.Logger('error')\n",
    "sys.path.append('../')"
   ]
  },
  {
   "cell_type": "code",
   "execution_count": 2,
   "metadata": {},
   "outputs": [
    {
     "data": {
      "text/plain": [
       "{'ibmq_1_atlantis': <qiskit.backends.ibmq.ibmqbackend.IBMQBackend at 0xa22aa4c88>,\n",
       " 'ibmq_qasm_simulator': <qiskit.backends.ibmq.ibmqbackend.IBMQBackend at 0xa22aa42e8>}"
      ]
     },
     "execution_count": 2,
     "metadata": {},
     "output_type": "execute_result"
    }
   ],
   "source": [
    "core_provider.backends"
   ]
  },
  {
   "cell_type": "code",
   "execution_count": 3,
   "metadata": {},
   "outputs": [
    {
     "data": {
      "text/plain": [
       "[<qiskit.backends.local.localprovider.LocalProvider at 0x11a1a5c50>]"
      ]
     },
     "execution_count": 3,
     "metadata": {},
     "output_type": "execute_result"
    }
   ],
   "source": [
    "qiskit.registered_providers()"
   ]
  },
  {
   "cell_type": "code",
   "execution_count": 4,
   "metadata": {},
   "outputs": [
    {
     "data": {
      "text/plain": [
       "['local_qasm_simulator',\n",
       " 'local_statevector_simulator',\n",
       " 'local_unitary_simulator']"
      ]
     },
     "execution_count": 4,
     "metadata": {},
     "output_type": "execute_result"
    }
   ],
   "source": [
    "available_backends()"
   ]
  },
  {
   "cell_type": "code",
   "execution_count": 5,
   "metadata": {},
   "outputs": [],
   "source": [
    "backends = ['ibmqx_hpc_qasm_simulator','ibmq_1_atlantis','ibmq_qasm_simulator'] "
   ]
  },
  {
   "cell_type": "code",
   "execution_count": 13,
   "metadata": {},
   "outputs": [],
   "source": [
    "from qiskit.backends.ibmq import IBMQProvider\n",
    "from python.common import Path, QiskitTestCase, requires_qe_access, slow_test\n",
    "\n",
    "\n",
    "class TestBackendQobj(QiskitTestCase):\n",
    "    \"\"\"Qiskit backend qobj test.\"\"\"\n",
    "    \n",
    "    def __init__(self, backend, *args, **kwargs):\n",
    "        self.backend = backend\n",
    "        super(TestBackendQobj, self).__init__(*args, **kwargs)\n",
    "    \n",
    "    def test_operational(self):\n",
    "        local = get_backend('local_qasm_simulator')\n",
    "        remote = self.backend\n",
    "        self.assertTrue(remote.status()['operational'])\n",
    "    \n",
    "    def test_allow_qobj(self):\n",
    "        local = get_backend('local_qasm_simulator')\n",
    "        remote = self.backend\n",
    "        self.assertTrue(remote.configuration()['allow_q_object'])\n",
    "    def test_one_qubit_no_operation(self):\n",
    "        \"\"\"Test one circuit, one register, in-order readout.\n",
    "        \"\"\"\n",
    "        qr = QuantumRegister(1)\n",
    "        cr = ClassicalRegister(1)\n",
    "        circ = QuantumCircuit(qr, cr)\n",
    "        circ.measure(qr[0], cr[0])\n",
    "        local = get_backend('local_qasm_simulator')\n",
    "        remote = self.backend\n",
    "        qobj = compile(circ, remote)\n",
    "        result_remote = remote.run(qobj).result()\n",
    "        result_local = local.run(qobj).result()\n",
    "        self.assertDictAlmostEqual(result_remote.get_counts(circ),\n",
    "                              result_local.get_counts(circ),delta=50)\n",
    "        \n",
    "    def test_one_qubit_operation(self):\n",
    "        \"\"\"Test one circuit, one register, in-order readout.\n",
    "        \"\"\"\n",
    "        qr = QuantumRegister(1)\n",
    "        cr = ClassicalRegister(1)\n",
    "        circ = QuantumCircuit(qr, cr)\n",
    "        circ.x(qr[0])\n",
    "        circ.measure(qr[0], cr[0])\n",
    "        local = get_backend('local_qasm_simulator')\n",
    "        remote = self.backend\n",
    "        qobj = compile(circ, remote)\n",
    "        result_remote = remote.run(qobj).result()\n",
    "        result_local = local.run(qobj).result()\n",
    "        self.assertDictAlmostEqual(result_remote.get_counts(circ),\n",
    "                              result_local.get_counts(circ),delta=50)\n",
    "        \n",
    "    def test_simple_circuit(self):\n",
    "        \"\"\"Test one circuit, one register, in-order readout.\n",
    "        \"\"\"\n",
    "        qr = QuantumRegister(4)\n",
    "        cr = ClassicalRegister(4)\n",
    "        circ = QuantumCircuit(qr, cr)\n",
    "        circ.x(qr[0])\n",
    "        circ.x(qr[2])\n",
    "        circ.measure(qr[0], cr[0])\n",
    "        circ.measure(qr[1], cr[1])\n",
    "        circ.measure(qr[2], cr[2])\n",
    "        circ.measure(qr[3], cr[3])\n",
    "        local = get_backend('local_qasm_simulator')\n",
    "        remote = self.backend\n",
    "        qobj = compile(circ, remote)\n",
    "        result_remote = remote.run(qobj).result()\n",
    "        result_local = local.run(qobj).result()\n",
    "        self.assertDictAlmostEqual(result_remote.get_counts(circ),\n",
    "                              result_local.get_counts(circ),delta=50)\n",
    "\n",
    "\n",
    "    def test_readout_order(self):\n",
    "        \"\"\"Test one circuit, one register, out-of-order readout.\n",
    "        \"\"\"\n",
    "        qr = QuantumRegister(4)\n",
    "        cr = ClassicalRegister(4)\n",
    "        circ = QuantumCircuit(qr, cr)\n",
    "        #circ.x(qr[0])\n",
    "        #circ.x(qr[2])\n",
    "        circ.measure(qr[0], cr[2])\n",
    "        circ.measure(qr[1], cr[0])\n",
    "        circ.measure(qr[2], cr[1])\n",
    "        circ.measure(qr[3], cr[3])\n",
    "        local = get_backend('local_qasm_simulator')\n",
    "        remote = self.backend\n",
    "        qobj_remote = compile(circ, remote)\n",
    "        qobj_local = compile(circ, local)\n",
    "        result_remote = remote.run(qobj_remote).result()\n",
    "        result_local = local.run(qobj_local).result()\n",
    "        self.assertDictAlmostEqual(result_remote.get_counts(circ),\n",
    "                              result_local.get_counts(circ),delta=50)\n",
    "\n",
    "                \n",
    "    def test_multi_register(self):\n",
    "        \"\"\"Test one circuit, two registers, out-of-order readout.\n",
    "        \"\"\"\n",
    "        qr1 = QuantumRegister(2)\n",
    "        qr2 = QuantumRegister(2)\n",
    "        cr1 = ClassicalRegister(3)\n",
    "        cr2 = ClassicalRegister(1)\n",
    "        circ = QuantumCircuit(qr1, qr2, cr1, cr2)\n",
    "        circ.h(qr1[0])\n",
    "        circ.cx(qr1[0], qr2[1])\n",
    "        circ.h(qr2[0])\n",
    "        circ.cx(qr2[0], qr1[1])\n",
    "        circ.x(qr1[1])\n",
    "        circ.measure(qr1[0], cr2[0])\n",
    "        circ.measure(qr1[1], cr1[0])\n",
    "        circ.measure(qr1[1], cr2[0])\n",
    "        circ.measure(qr1[1], cr1[2])\n",
    "        circ.measure(qr2[0], cr1[2])\n",
    "        circ.measure(qr2[1], cr1[1])\n",
    "        local = get_backend('local_qasm_simulator')\n",
    "        remote = self.backend\n",
    "        qobj = compile(circ, remote)\n",
    "        result_remote = remote.run(qobj).result()\n",
    "        result_local = local.run(qobj).result()\n",
    "        self.assertDictAlmostEqual(result_remote.get_counts(circ),\n",
    "                              result_local.get_counts(circ),delta=50)\n",
    "\n",
    "    def test_multi_circuit(self):\n",
    "        \"\"\"Test two circuits, two registers, out-of-order readout.\n",
    "        \"\"\"\n",
    "        qr1 = QuantumRegister(2)\n",
    "        qr2 = QuantumRegister(2)\n",
    "        cr1 = ClassicalRegister(3)\n",
    "        cr2 = ClassicalRegister(1)\n",
    "        circ1 = QuantumCircuit(qr1, qr2, cr1, cr2)\n",
    "        circ1.h(qr1[0])\n",
    "        circ1.cx(qr1[0], qr2[1])\n",
    "        circ1.h(qr2[0])\n",
    "        circ1.cx(qr2[0], qr1[1])\n",
    "        circ1.x(qr1[1])\n",
    "        circ1.measure(qr1[0], cr2[0])\n",
    "        circ1.measure(qr1[1], cr1[0])\n",
    "        circ1.measure(qr1[0], cr2[0])\n",
    "        circ1.measure(qr1[1], cr1[2])\n",
    "        circ1.measure(qr2[0], cr1[2])\n",
    "        circ1.measure(qr2[1], cr1[1])\n",
    "        circ2 = QuantumCircuit(qr1, qr2, cr1)\n",
    "        circ2.h(qr1[0])\n",
    "        circ2.cx(qr1[0], qr1[1])\n",
    "        circ2.h(qr2[1])\n",
    "        circ2.cx(qr2[1], qr1[1])\n",
    "        circ2.measure(qr1[0], cr1[0])\n",
    "        circ2.measure(qr1[1], cr1[1])\n",
    "        circ2.measure(qr1[0], cr1[2])\n",
    "        circ2.measure(qr2[1], cr1[2])\n",
    "        local = get_backend('local_qasm_simulator')\n",
    "        remote = self.backend\n",
    "\n",
    "        qobj = compile([circ1, circ2], remote)\n",
    "        result_remote = remote.run(qobj).result()\n",
    "        result_local = local.run(qobj).result()\n",
    "        self.assertDictAlmostEqual(result_remote.get_counts(circ1),\n",
    "                              result_local.get_counts(circ1),delta=50)\n",
    "        self.assertDictAlmostEqual(result_remote.get_counts(circ2),\n",
    "                              result_local.get_counts(circ2),delta=50)\n",
    "    \n",
    "    def test_conditional_operation(self):\n",
    "        \"\"\"Test conditional operation. \n",
    "        \"\"\"\n",
    "        qr = QuantumRegister(4)\n",
    "        cr = ClassicalRegister(4)\n",
    "        circ = QuantumCircuit(qr, cr)\n",
    "        circ.x(qr[0])\n",
    "        circ.x(qr[2])\n",
    "        circ.measure(qr[0], cr[0])\n",
    "        circ.x(qr[0]).c_if(cr,1)\n",
    "        local = get_backend('local_qasm_simulator')\n",
    "        remote = self.backend\n",
    "\n",
    "        qobj = compile(circ, remote)\n",
    "        result_remote = remote.run(qobj).result()\n",
    "        result_local = local.run(qobj).result()\n",
    "        self.assertDictAlmostEqual(result_remote.get_counts(circ),\n",
    "                              result_local.get_counts(circ),delta=50)\n",
    "    \n",
    "    def test_erick_circuit(self):\n",
    "        \"\"\"Test one circuit, one register, in-order readout.\n",
    "        \"\"\"\n",
    "        qr = QuantumRegister(3)\n",
    "        cr = ClassicalRegister(3)\n",
    "        circ= QuantumCircuit(qr, cr)\n",
    "        circ.x(qr[0])\n",
    "        circ.x(qr[2])\n",
    "        circ.measure(qr, cr)\n",
    "        local = get_backend('local_qasm_simulator')\n",
    "        remote = self.backend\n",
    "        qobj = compile(circ, remote)\n",
    "        result_remote = remote.run(qobj).result()\n",
    "        result_local = local.run(qobj).result()\n",
    "        self.assertDictAlmostEqual(result_remote.get_counts(circ),\n",
    "                              result_local.get_counts(circ),delta=50)"
   ]
  },
  {
   "cell_type": "code",
   "execution_count": 14,
   "metadata": {},
   "outputs": [],
   "source": [
    "def test_backend(backend,name=None):\n",
    "    if name is None:\n",
    "        name = str(backend)\n",
    "    print(\"Testing: {}\".format(name))\n",
    "    testbackend = TestBackendQobj(backend)\n",
    "    test_methods = [testbackend.test_erick_circuit, testbackend.test_allow_qobj,testbackend.test_operational,testbackend.test_one_qubit_operation,\n",
    "                    testbackend.test_one_qubit_no_operation,testbackend.test_multi_circuit,testbackend.test_multi_register,\n",
    "               testbackend.test_readout_order,testbackend.test_simple_circuit,testbackend.test_conditional_operation]\n",
    "\n",
    "    failed = 0 \n",
    "    for test in test_methods:\n",
    "        try:\n",
    "            test()\n",
    "            print('.',end='')\n",
    "        except Exception as err:\n",
    "            failed += 1\n",
    "            print('x',end='')\n",
    "            logger.warning(err)\n",
    "            logger.error('test failed:{}'.format(str(test)))\n",
    "    print('\\n {0} of {1} tests failed'.format(failed,len(test_methods)))"
   ]
  },
  {
   "cell_type": "code",
   "execution_count": 8,
   "metadata": {},
   "outputs": [
    {
     "data": {
      "text/plain": [
       "{'ibmq_1_atlantis': <qiskit.backends.ibmq.ibmqbackend.IBMQBackend at 0xa22aa4c88>,\n",
       " 'ibmq_qasm_simulator': <qiskit.backends.ibmq.ibmqbackend.IBMQBackend at 0xa22aa42e8>}"
      ]
     },
     "execution_count": 8,
     "metadata": {},
     "output_type": "execute_result"
    }
   ],
   "source": [
    "core_provider.backends"
   ]
  },
  {
   "cell_type": "code",
   "execution_count": 17,
   "metadata": {},
   "outputs": [
    {
     "name": "stdout",
     "output_type": "stream",
     "text": [
      "Testing: ibmq_1_atlantis\n"
     ]
    },
    {
     "name": "stderr",
     "output_type": "stream",
     "text": [
      "('0x4': 415 != 0), ('0x0': 541 != 0), ('101': 0 != 1024) within 50 delta\n",
      "test failed:<bound method TestBackendQobj.test_erick_circuit of <__main__.TestBackendQobj testMethod=runTest>>\n"
     ]
    },
    {
     "name": "stdout",
     "output_type": "stream",
     "text": [
      "x.."
     ]
    },
    {
     "name": "stderr",
     "output_type": "stream",
     "text": [
      "\"HTTPSConnectionPool(host='q-console-api.mybluemix.net', port=443): Max retries exceeded with url: /api/Network/ibm-q-internal/Groups/development/Projects/qobj-test/jobs/5ba274da1bd02f003cd33e79/status?access_token=91acKWPobmXdfvMeMGNsMsTuDVJ4E9HKyO9L2FCnxeBzhRKT4VySKpU7voSRXgmv (Caused by NewConnectionError('<urllib3.connection.VerifiedHTTPSConnection object at 0xa24216908>: Failed to establish a new connection: [Errno 60] Operation timed out',))\"\n",
      "test failed:<bound method TestBackendQobj.test_one_qubit_operation of <__main__.TestBackendQobj testMethod=runTest>>\n"
     ]
    },
    {
     "name": "stdout",
     "output_type": "stream",
     "text": [
      "x"
     ]
    },
    {
     "name": "stderr",
     "output_type": "stream",
     "text": [
      "('0x0': 853 != 0), ('0x1': 171 != 0), ('0': 0 != 1024) within 50 delta\n",
      "test failed:<bound method TestBackendQobj.test_one_qubit_no_operation of <__main__.TestBackendQobj testMethod=runTest>>\n"
     ]
    },
    {
     "name": "stdout",
     "output_type": "stream",
     "text": [
      "x"
     ]
    },
    {
     "name": "stderr",
     "output_type": "stream",
     "text": [
      "('0x7': 144 != 0), ('0x8': 104 != 0), ('0x4': 73 != 0), ('0x0': 188 != 0), ('0x5': 137 != 0), ('0xA': 114 != 0), ('0xD': 111 != 0), ('0 100': 0 != 252), ('0 001': 0 != 245), ('1 011': 0 != 268), ('1 110': 0 != 259) within 50 delta\n",
      "test failed:<bound method TestBackendQobj.test_multi_circuit of <__main__.TestBackendQobj testMethod=runTest>>\n"
     ]
    },
    {
     "name": "stdout",
     "output_type": "stream",
     "text": [
      "x"
     ]
    },
    {
     "name": "stderr",
     "output_type": "stream",
     "text": [
      "('0x8': 86 != 0), ('0x4': 132 != 0), ('0xD': 256 != 0), ('0xA': 197 != 0), ('0x0': 76 != 0), ('0xF': 147 != 0), ('0x2': 66 != 0), ('1 001': 0 != 267), ('0 100': 0 != 258), ('0 110': 0 != 253), ('1 011': 0 != 246) within 50 delta\n",
      "test failed:<bound method TestBackendQobj.test_multi_register of <__main__.TestBackendQobj testMethod=runTest>>\n"
     ]
    },
    {
     "name": "stdout",
     "output_type": "stream",
     "text": [
      "x"
     ]
    },
    {
     "name": "stderr",
     "output_type": "stream",
     "text": [
      "('0x8': 190 != 0), ('0xB': 71 != 0), ('0xC': 57 != 0), ('0x0': 187 != 0), ('0xA': 225 != 0), ('0x2': 78 != 0), ('0000': 0 != 1024) within 50 delta\n",
      "test failed:<bound method TestBackendQobj.test_readout_order of <__main__.TestBackendQobj testMethod=runTest>>\n"
     ]
    },
    {
     "name": "stdout",
     "output_type": "stream",
     "text": [
      "x"
     ]
    },
    {
     "name": "stderr",
     "output_type": "stream",
     "text": [
      "('0x8': 229 != 0), ('0x4': 103 != 0), ('0xC': 305 != 0), ('0x0': 298 != 0), ('0101': 0 != 1024) within 50 delta\n",
      "test failed:<bound method TestBackendQobj.test_simple_circuit of <__main__.TestBackendQobj testMethod=runTest>>\n",
      "internal error\n",
      "test failed:<bound method TestBackendQobj.test_conditional_operation of <__main__.TestBackendQobj testMethod=runTest>>\n"
     ]
    },
    {
     "name": "stdout",
     "output_type": "stream",
     "text": [
      "xx\n",
      " 8 of 10 tests failed\n"
     ]
    }
   ],
   "source": [
    "#ibmq atlantis\n",
    "name = 'ibmq_1_atlantis'\n",
    "backend = core_provider.backends[name]\n",
    "test_backend(backend,name)"
   ]
  },
  {
   "cell_type": "code",
   "execution_count": 10,
   "metadata": {},
   "outputs": [
    {
     "name": "stdout",
     "output_type": "stream",
     "text": [
      "Testing: ibmq_qasm_simulator\n"
     ]
    },
    {
     "name": "stderr",
     "output_type": "stream",
     "text": [
      "False is not true\n",
      "test failed:<bound method TestBackendQobj.test_allow_qobj of <__main__.TestBackendQobj testMethod=runTest>>\n"
     ]
    },
    {
     "name": "stdout",
     "output_type": "stream",
     "text": [
      ".x........\n",
      " 1 of 10 tests failed\n"
     ]
    }
   ],
   "source": [
    "#ibmq ibmq qasm sim \n",
    "name = 'ibmq_qasm_simulator'\n",
    "backend = core_provider.backends[name]\n",
    "test_backend(backend,name)"
   ]
  },
  {
   "cell_type": "code",
   "execution_count": 11,
   "metadata": {},
   "outputs": [
    {
     "data": {
      "text/plain": [
       "{'ibmqx_hpc_qasm_simulator': <qiskit.backends.ibmq.ibmqbackend.IBMQBackend at 0xa1807bac8>,\n",
       " 'ibmq_qasm_simulator': <qiskit.backends.ibmq.ibmqbackend.IBMQBackend at 0xa1807b198>}"
      ]
     },
     "execution_count": 11,
     "metadata": {},
     "output_type": "execute_result"
    }
   ],
   "source": [
    "staging_provider.backends"
   ]
  },
  {
   "cell_type": "code",
   "execution_count": 16,
   "metadata": {},
   "outputs": [
    {
     "name": "stdout",
     "output_type": "stream",
     "text": [
      "Testing: ibmqx_hpc_qasm_simulator\n"
     ]
    },
    {
     "name": "stderr",
     "output_type": "stream",
     "text": [
      "'results'\n",
      "test failed:<bound method TestBackendQobj.test_erick_circuit of <__main__.TestBackendQobj testMethod=runTest>>\n"
     ]
    },
    {
     "name": "stdout",
     "output_type": "stream",
     "text": [
      "x."
     ]
    },
    {
     "name": "stderr",
     "output_type": "stream",
     "text": [
      "Got a 204 code response to https://q-console-api-staging.mybluemix.net/api/Backends/ibmqx_hpc_qasm_simulator/queue/status: \n",
      "Got a 204 code response to https://q-console-api-staging.mybluemix.net/api/Backends/ibmqx_hpc_qasm_simulator/queue/status: \n",
      "Got a 204 code response to https://q-console-api-staging.mybluemix.net/api/Backends/ibmqx_hpc_qasm_simulator/queue/status: \n",
      "Got a 204 code response to https://q-console-api-staging.mybluemix.net/api/Backends/ibmqx_hpc_qasm_simulator/queue/status: \n",
      "Got a 204 code response to https://q-console-api-staging.mybluemix.net/api/Backends/ibmqx_hpc_qasm_simulator/queue/status: \n",
      "Couldn't get backend status: Expecting value: line 1 column 1 (char 0)\n",
      "test failed:<bound method TestBackendQobj.test_operational of <__main__.TestBackendQobj testMethod=runTest>>\n"
     ]
    },
    {
     "name": "stdout",
     "output_type": "stream",
     "text": [
      "x"
     ]
    },
    {
     "name": "stderr",
     "output_type": "stream",
     "text": [
      "'results'\n",
      "test failed:<bound method TestBackendQobj.test_one_qubit_operation of <__main__.TestBackendQobj testMethod=runTest>>\n"
     ]
    },
    {
     "name": "stdout",
     "output_type": "stream",
     "text": [
      "x"
     ]
    },
    {
     "name": "stderr",
     "output_type": "stream",
     "text": [
      "'results'\n",
      "test failed:<bound method TestBackendQobj.test_one_qubit_no_operation of <__main__.TestBackendQobj testMethod=runTest>>\n"
     ]
    },
    {
     "name": "stdout",
     "output_type": "stream",
     "text": [
      "x"
     ]
    },
    {
     "name": "stderr",
     "output_type": "stream",
     "text": [
      "'results'\n",
      "test failed:<bound method TestBackendQobj.test_multi_circuit of <__main__.TestBackendQobj testMethod=runTest>>\n"
     ]
    },
    {
     "name": "stdout",
     "output_type": "stream",
     "text": [
      "x"
     ]
    },
    {
     "name": "stderr",
     "output_type": "stream",
     "text": [
      "'results'\n",
      "test failed:<bound method TestBackendQobj.test_multi_register of <__main__.TestBackendQobj testMethod=runTest>>\n"
     ]
    },
    {
     "name": "stdout",
     "output_type": "stream",
     "text": [
      "x"
     ]
    },
    {
     "name": "stderr",
     "output_type": "stream",
     "text": [
      "'results'\n",
      "test failed:<bound method TestBackendQobj.test_readout_order of <__main__.TestBackendQobj testMethod=runTest>>\n"
     ]
    },
    {
     "name": "stdout",
     "output_type": "stream",
     "text": [
      "x"
     ]
    },
    {
     "name": "stderr",
     "output_type": "stream",
     "text": [
      "'results'\n",
      "test failed:<bound method TestBackendQobj.test_simple_circuit of <__main__.TestBackendQobj testMethod=runTest>>\n"
     ]
    },
    {
     "name": "stdout",
     "output_type": "stream",
     "text": [
      "x"
     ]
    },
    {
     "name": "stderr",
     "output_type": "stream",
     "text": [
      "'results'\n",
      "test failed:<bound method TestBackendQobj.test_conditional_operation of <__main__.TestBackendQobj testMethod=runTest>>\n"
     ]
    },
    {
     "name": "stdout",
     "output_type": "stream",
     "text": [
      "x\n",
      " 9 of 10 tests failed\n"
     ]
    }
   ],
   "source": [
    "#hpc staging\n",
    "name = 'ibmqx_hpc_qasm_simulator'\n",
    "backend = staging_provider.backends[name]\n",
    "test_backend(backend,name)"
   ]
  },
  {
   "cell_type": "code",
   "execution_count": 15,
   "metadata": {},
   "outputs": [
    {
     "name": "stdout",
     "output_type": "stream",
     "text": [
      "Testing: ibmq_qasm_simulator\n",
      "..........\n",
      " 0 of 10 tests failed\n"
     ]
    }
   ],
   "source": [
    "#hpc staging\n",
    "name = 'ibmq_qasm_simulator'\n",
    "backend = staging_provider.backends[name]\n",
    "test_backend(backend,name)"
   ]
  },
  {
   "cell_type": "code",
   "execution_count": null,
   "metadata": {},
   "outputs": [],
   "source": []
  }
 ],
 "metadata": {
  "kernelspec": {
   "display_name": "Python 3",
   "language": "python",
   "name": "python3"
  },
  "language_info": {
   "codemirror_mode": {
    "name": "ipython",
    "version": 3
   },
   "file_extension": ".py",
   "mimetype": "text/x-python",
   "name": "python",
   "nbconvert_exporter": "python",
   "pygments_lexer": "ipython3",
   "version": "3.6.6"
  }
 },
 "nbformat": 4,
 "nbformat_minor": 2
}
