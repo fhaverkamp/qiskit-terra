{
 "cells": [
  {
   "cell_type": "code",
   "execution_count": 1,
   "metadata": {},
   "outputs": [
    {
     "name": "stderr",
     "output_type": "stream",
     "text": [
      "The backend names \"['ibmq_qasm_simulator']\" of this provider are already in use. Refer to documentation for `available_backends()` and `unregister()`.\n"
     ]
    }
   ],
   "source": [
    "import qiskit.extensions.simulator  \n",
    "from qiskit import *\n",
    "\n",
    "import os \n",
    "import sys \n",
    "import unittest\n",
    "import logging\n",
    "#import Qconfig\n",
    "#import QconfigQobj\n",
    "import QConfigCore\n",
    "import QConfigStaging\n",
    "#register(Qconfig.APItoken)\n",
    "#register(QConfigQobj.APItoken, QConfigQobj.config['url'])\n",
    "register(QConfigCore.APItoken, QConfigCore.config['url'])\n",
    "register(QConfigStaging.APItoken, QConfigStaging.config['url'])\n",
    "available_backends() # this is all the backends i have access to\n",
    "\n",
    "logger = logging.Logger('error')\n",
    "sys.path.append('../')"
   ]
  },
  {
   "cell_type": "code",
   "execution_count": 2,
   "metadata": {},
   "outputs": [
    {
     "data": {
      "text/plain": [
       "['ibmq_1_atlantis',\n",
       " 'ibmq_qasm_simulator',\n",
       " 'ibmqx_hpc_qasm_simulator',\n",
       " 'local_qasm_simulator',\n",
       " 'local_statevector_simulator',\n",
       " 'local_unitary_simulator']"
      ]
     },
     "execution_count": 2,
     "metadata": {},
     "output_type": "execute_result"
    }
   ],
   "source": [
    "available_backends()"
   ]
  },
  {
   "cell_type": "code",
   "execution_count": 3,
   "metadata": {},
   "outputs": [],
   "source": [
    "backends = ['ibmqx_hpc_qasm_simulator','ibmq_1_atlantis','ibmq_qasm_simulator'] "
   ]
  },
  {
   "cell_type": "code",
   "execution_count": 4,
   "metadata": {},
   "outputs": [
    {
     "name": "stdout",
     "output_type": "stream",
     "text": [
      "QISKIT_TESTS: {'skip_online': False, 'mock_online': False, 'run_slow': False, 'rec': False, '': True}\n"
     ]
    }
   ],
   "source": [
    "from qiskit.backends.ibmq import IBMQProvider\n",
    "from python.common import Path, QiskitTestCase, requires_qe_access, slow_test\n",
    "\n",
    "\n",
    "class TestBackendQobj(QiskitTestCase):\n",
    "    \"\"\"Qiskit backend qobj test.\"\"\"\n",
    "    \n",
    "    def __init__(self, backend_name, *args, **kwargs):\n",
    "        self.backend_name = backend_name\n",
    "        super(TestBackendQobj, self).__init__(*args, **kwargs)\n",
    "    \n",
    "    def test_operational(self):\n",
    "        local = get_backend('local_qasm_simulator')\n",
    "        remote = get_backend(self.backend_name)\n",
    "        self.assertTrue(remote.status()['operational'])\n",
    "    \n",
    "    def test_allow_qobj(self):\n",
    "        local = get_backend('local_qasm_simulator')\n",
    "        remote = get_backend(self.backend_name)\n",
    "        self.assertTrue(remote.configuration()['allow_q_object'])\n",
    "    def test_one_qubit_no_operation(self):\n",
    "        \"\"\"Test one circuit, one register, in-order readout.\n",
    "        \"\"\"\n",
    "        qr = QuantumRegister(1)\n",
    "        cr = ClassicalRegister(1)\n",
    "        circ = QuantumCircuit(qr, cr)\n",
    "        circ.measure(qr[0], cr[0])\n",
    "        local = get_backend('local_qasm_simulator')\n",
    "        remote = get_backend(self.backend_name)\n",
    "        qobj = compile(circ, remote)\n",
    "        result_remote = remote.run(qobj).result()\n",
    "        result_local = local.run(qobj).result()\n",
    "        self.assertDictAlmostEqual(result_remote.get_counts(circ),\n",
    "                              result_local.get_counts(circ),delta=50)\n",
    "        \n",
    "    def test_one_qubit_operation(self):\n",
    "        \"\"\"Test one circuit, one register, in-order readout.\n",
    "        \"\"\"\n",
    "        qr = QuantumRegister(1)\n",
    "        cr = ClassicalRegister(1)\n",
    "        circ = QuantumCircuit(qr, cr)\n",
    "        circ.x(qr[0])\n",
    "        circ.measure(qr[0], cr[0])\n",
    "        local = get_backend('local_qasm_simulator')\n",
    "        remote = get_backend(self.backend_name)\n",
    "        qobj = compile(circ, remote)\n",
    "        result_remote = remote.run(qobj).result()\n",
    "        result_local = local.run(qobj).result()\n",
    "        self.assertDictAlmostEqual(result_remote.get_counts(circ),\n",
    "                              result_local.get_counts(circ),delta=50)\n",
    "        \n",
    "    def test_simple_circuit(self):\n",
    "        \"\"\"Test one circuit, one register, in-order readout.\n",
    "        \"\"\"\n",
    "        qr = QuantumRegister(4)\n",
    "        cr = ClassicalRegister(4)\n",
    "        circ = QuantumCircuit(qr, cr)\n",
    "        circ.x(qr[0])\n",
    "        circ.x(qr[2])\n",
    "        circ.measure(qr[0], cr[0])\n",
    "        circ.measure(qr[1], cr[1])\n",
    "        circ.measure(qr[2], cr[2])\n",
    "        circ.measure(qr[3], cr[3])\n",
    "        local = get_backend('local_qasm_simulator')\n",
    "        remote = get_backend(self.backend_name)\n",
    "        qobj = compile(circ, remote)\n",
    "        result_remote = remote.run(qobj).result()\n",
    "        result_local = local.run(qobj).result()\n",
    "        self.assertDictAlmostEqual(result_remote.get_counts(circ),\n",
    "                              result_local.get_counts(circ),delta=50)\n",
    "\n",
    "\n",
    "    def test_readout_order(self):\n",
    "        \"\"\"Test one circuit, one register, out-of-order readout.\n",
    "        \"\"\"\n",
    "        qr = QuantumRegister(4)\n",
    "        cr = ClassicalRegister(4)\n",
    "        circ = QuantumCircuit(qr, cr)\n",
    "        #circ.x(qr[0])\n",
    "        #circ.x(qr[2])\n",
    "        circ.measure(qr[0], cr[2])\n",
    "        circ.measure(qr[1], cr[0])\n",
    "        circ.measure(qr[2], cr[1])\n",
    "        circ.measure(qr[3], cr[3])\n",
    "        local = get_backend('local_qasm_simulator')\n",
    "        remote = get_backend(self.backend_name)\n",
    "        qobj_remote = compile(circ, remote)\n",
    "        qobj_local = compile(circ, local)\n",
    "        result_remote = remote.run(qobj_remote).result()\n",
    "        result_local = local.run(qobj_local).result()\n",
    "        self.assertDictAlmostEqual(result_remote.get_counts(circ),\n",
    "                              result_local.get_counts(circ),delta=50)\n",
    "\n",
    "                \n",
    "    def test_multi_register(self):\n",
    "        \"\"\"Test one circuit, two registers, out-of-order readout.\n",
    "        \"\"\"\n",
    "        qr1 = QuantumRegister(2)\n",
    "        qr2 = QuantumRegister(2)\n",
    "        cr1 = ClassicalRegister(3)\n",
    "        cr2 = ClassicalRegister(1)\n",
    "        circ = QuantumCircuit(qr1, qr2, cr1, cr2)\n",
    "        circ.h(qr1[0])\n",
    "        circ.cx(qr1[0], qr2[1])\n",
    "        circ.h(qr2[0])\n",
    "        circ.cx(qr2[0], qr1[1])\n",
    "        circ.x(qr1[1])\n",
    "        circ.measure(qr1[0], cr2[0])\n",
    "        circ.measure(qr1[1], cr1[0])\n",
    "        circ.measure(qr1[1], cr2[0])\n",
    "        circ.measure(qr1[1], cr1[2])\n",
    "        circ.measure(qr2[0], cr1[2])\n",
    "        circ.measure(qr2[1], cr1[1])\n",
    "        local = get_backend('local_qasm_simulator')\n",
    "        remote = get_backend(self.backend_name)\n",
    "        qobj = compile(circ, remote)\n",
    "        result_remote = remote.run(qobj).result()\n",
    "        result_local = local.run(qobj).result()\n",
    "        self.assertDictAlmostEqual(result_remote.get_counts(circ),\n",
    "                              result_local.get_counts(circ),delta=50)\n",
    "\n",
    "    def test_multi_circuit(self):\n",
    "        \"\"\"Test two circuits, two registers, out-of-order readout.\n",
    "        \"\"\"\n",
    "        qr1 = QuantumRegister(2)\n",
    "        qr2 = QuantumRegister(2)\n",
    "        cr1 = ClassicalRegister(3)\n",
    "        cr2 = ClassicalRegister(1)\n",
    "        circ1 = QuantumCircuit(qr1, qr2, cr1, cr2)\n",
    "        circ1.h(qr1[0])\n",
    "        circ1.cx(qr1[0], qr2[1])\n",
    "        circ1.h(qr2[0])\n",
    "        circ1.cx(qr2[0], qr1[1])\n",
    "        circ1.x(qr1[1])\n",
    "        circ1.measure(qr1[0], cr2[0])\n",
    "        circ1.measure(qr1[1], cr1[0])\n",
    "        circ1.measure(qr1[0], cr2[0])\n",
    "        circ1.measure(qr1[1], cr1[2])\n",
    "        circ1.measure(qr2[0], cr1[2])\n",
    "        circ1.measure(qr2[1], cr1[1])\n",
    "        circ2 = QuantumCircuit(qr1, qr2, cr1)\n",
    "        circ2.h(qr1[0])\n",
    "        circ2.cx(qr1[0], qr1[1])\n",
    "        circ2.h(qr2[1])\n",
    "        circ2.cx(qr2[1], qr1[1])\n",
    "        circ2.measure(qr1[0], cr1[0])\n",
    "        circ2.measure(qr1[1], cr1[1])\n",
    "        circ2.measure(qr1[0], cr1[2])\n",
    "        circ2.measure(qr2[1], cr1[2])\n",
    "        local = get_backend('local_qasm_simulator')\n",
    "        remote = get_backend(self.backend_name)\n",
    "\n",
    "        qobj = compile([circ1, circ2], remote)\n",
    "        result_remote = remote.run(qobj).result()\n",
    "        result_local = local.run(qobj).result()\n",
    "        self.assertDictAlmostEqual(result_remote.get_counts(circ1),\n",
    "                              result_local.get_counts(circ1),delta=50)\n",
    "        self.assertDictAlmostEqual(result_remote.get_counts(circ2),\n",
    "                              result_local.get_counts(circ2),delta=50)\n",
    "    \n",
    "    def test_conditional_operation(self):\n",
    "        \"\"\"Test conditional operation. \n",
    "        \"\"\"\n",
    "        qr = QuantumRegister(4)\n",
    "        cr = ClassicalRegister(4)\n",
    "        circ = QuantumCircuit(qr, cr)\n",
    "        circ.x(qr[0])\n",
    "        circ.x(qr[2])\n",
    "        circ.measure(qr[0], cr[0])\n",
    "        circ.x(qr[0]).c_if(cr,1)\n",
    "        local = get_backend('local_qasm_simulator')\n",
    "        remote = get_backend(self.backend_name)\n",
    "\n",
    "        qobj = compile(circ, remote)\n",
    "        result_remote = remote.run(qobj).result()\n",
    "        result_local = local.run(qobj).result()\n",
    "        self.assertDictAlmostEqual(result_remote.get_counts(circ),\n",
    "                              result_local.get_counts(circ),delta=50)\n"
   ]
  },
  {
   "cell_type": "code",
   "execution_count": 5,
   "metadata": {},
   "outputs": [],
   "source": [
    "def test_backend(backend):\n",
    "    backend\n",
    "    print(\"Testing: {}\".format(backend))\n",
    "    testbackend = TestBackendQobj(backend)\n",
    "    test_methods = [testbackend.test_allow_qobj,testbackend.test_operational,testbackend.test_one_qubit_operation,\n",
    "                    testbackend.test_one_qubit_no_operation,testbackend.test_multi_circuit,testbackend.test_multi_register,\n",
    "               testbackend.test_readout_order,testbackend.test_simple_circuit,testbackend.test_conditional_operation]\n",
    "\n",
    "    failed = 0 \n",
    "    for test in test_methods:\n",
    "        try:\n",
    "            test()\n",
    "            print('.',end='')\n",
    "        except Exception as err:\n",
    "            failed += 1\n",
    "            print('x',end='')\n",
    "            logger.warning(err)\n",
    "            logger.error('test failed:{}'.format(str(test)))\n",
    "    print('\\n {0} of {1} tests failed'.format(failed,len(test_methods)))"
   ]
  },
  {
   "cell_type": "code",
   "execution_count": 6,
   "metadata": {},
   "outputs": [
    {
     "name": "stdout",
     "output_type": "stream",
     "text": [
      "Testing: ibmqx_hpc_qasm_simulator\n",
      "."
     ]
    },
    {
     "name": "stderr",
     "output_type": "stream",
     "text": [
      "Got a 204 code response to https://q-console-api-staging.mybluemix.net/api/Backends/ibmqx_hpc_qasm_simulator/queue/status: \n",
      "Got a 204 code response to https://q-console-api-staging.mybluemix.net/api/Backends/ibmqx_hpc_qasm_simulator/queue/status: \n",
      "Got a 204 code response to https://q-console-api-staging.mybluemix.net/api/Backends/ibmqx_hpc_qasm_simulator/queue/status: \n",
      "Got a 204 code response to https://q-console-api-staging.mybluemix.net/api/Backends/ibmqx_hpc_qasm_simulator/queue/status: \n",
      "Got a 204 code response to https://q-console-api-staging.mybluemix.net/api/Backends/ibmqx_hpc_qasm_simulator/queue/status: \n",
      "Couldn't get backend status: Expecting value: line 1 column 1 (char 0)\n",
      "test failed:<bound method TestBackendQobj.test_operational of <__main__.TestBackendQobj testMethod=runTest>>\n"
     ]
    },
    {
     "name": "stdout",
     "output_type": "stream",
     "text": [
      "x......"
     ]
    },
    {
     "name": "stderr",
     "output_type": "stream",
     "text": [
      "Got a 400 code response to https://q-console-api-staging.mybluemix.net/api/Network/qobj-test-hub/Groups/qobj-test/Projects/normal/jobs?access_token=r0MCVWHrGmVo22rOFCHCPO4ZcOY9NuFfVIoBMYKCp6iWpEG7rVERER4xUovrpbHW: {\"error\":{\"status\":400,\"message\":\"Error parsing QASM. Error parsing qasm number 0. Operations are disabled\",\"code\":\"QASM_NOT_VALID\",\"statusCode\":400}}\n",
      "Got a 400 code response to https://q-console-api-staging.mybluemix.net/api/Network/qobj-test-hub/Groups/qobj-test/Projects/normal/jobs?access_token=r0MCVWHrGmVo22rOFCHCPO4ZcOY9NuFfVIoBMYKCp6iWpEG7rVERER4xUovrpbHW: {\"error\":{\"status\":400,\"message\":\"Error parsing QASM. Error parsing qasm number 0. Operations are disabled\",\"code\":\"QASM_NOT_VALID\",\"statusCode\":400}}\n",
      "Got a 400 code response to https://q-console-api-staging.mybluemix.net/api/Network/qobj-test-hub/Groups/qobj-test/Projects/normal/jobs?access_token=r0MCVWHrGmVo22rOFCHCPO4ZcOY9NuFfVIoBMYKCp6iWpEG7rVERER4xUovrpbHW: {\"error\":{\"status\":400,\"message\":\"Error parsing QASM. Error parsing qasm number 0. Operations are disabled\",\"code\":\"QASM_NOT_VALID\",\"statusCode\":400}}\n",
      "Got a 400 code response to https://q-console-api-staging.mybluemix.net/api/Network/qobj-test-hub/Groups/qobj-test/Projects/normal/jobs?access_token=r0MCVWHrGmVo22rOFCHCPO4ZcOY9NuFfVIoBMYKCp6iWpEG7rVERER4xUovrpbHW: {\"error\":{\"status\":400,\"message\":\"Error parsing QASM. Error parsing qasm number 0. Operations are disabled\",\"code\":\"QASM_NOT_VALID\",\"statusCode\":400}}\n",
      "Got a 400 code response to https://q-console-api-staging.mybluemix.net/api/Network/qobj-test-hub/Groups/qobj-test/Projects/normal/jobs?access_token=r0MCVWHrGmVo22rOFCHCPO4ZcOY9NuFfVIoBMYKCp6iWpEG7rVERER4xUovrpbHW: {\"error\":{\"status\":400,\"message\":\"Error parsing QASM. Error parsing qasm number 0. Operations are disabled\",\"code\":\"QASM_NOT_VALID\",\"statusCode\":400}}\n",
      "\"{'status': 400, 'message': 'Error parsing QASM. Error parsing qasm number 0. Operations are disabled', 'code': 'QASM_NOT_VALID', 'statusCode': 400}\"\n",
      "test failed:<bound method TestBackendQobj.test_conditional_operation of <__main__.TestBackendQobj testMethod=runTest>>\n"
     ]
    },
    {
     "name": "stdout",
     "output_type": "stream",
     "text": [
      "x\n",
      " 2 of 9 tests failed\n"
     ]
    }
   ],
   "source": [
    "#ibmq sim \n",
    "backend = backends[0]\n",
    "test_backend(backend)"
   ]
  },
  {
   "cell_type": "code",
   "execution_count": 7,
   "metadata": {},
   "outputs": [
    {
     "name": "stdout",
     "output_type": "stream",
     "text": [
      "Testing: ibmq_1_atlantis\n",
      ".."
     ]
    },
    {
     "name": "stderr",
     "output_type": "stream",
     "text": [
      "('0': 1024 != 0), ('1': 0 != 1024) within 50 delta\n",
      "test failed:<bound method TestBackendQobj.test_one_qubit_operation of <__main__.TestBackendQobj testMethod=runTest>>\n"
     ]
    },
    {
     "name": "stdout",
     "output_type": "stream",
     "text": [
      "x."
     ]
    },
    {
     "name": "stderr",
     "output_type": "stream",
     "text": [
      "Got a 400 code response to https://q-console-api.mybluemix.net/api/Network/ibm-q-internal/Groups/development/Projects/qobj-test/jobs?access_token=e2y97EuoI8GZkhrXvm07hn7MZloBSynfq4wlEyb4vQAELAmn6XhAAP1OC780azC2: {\"error\":{\"status\":400,\"message\":\"Error parsing QASM. Error parsing qasm number 1. Gates after a measure are blocked\",\"code\":\"QASM_NOT_VALID\",\"statusCode\":400}}\n",
      "Got a 400 code response to https://q-console-api.mybluemix.net/api/Network/ibm-q-internal/Groups/development/Projects/qobj-test/jobs?access_token=e2y97EuoI8GZkhrXvm07hn7MZloBSynfq4wlEyb4vQAELAmn6XhAAP1OC780azC2: {\"error\":{\"status\":400,\"message\":\"Error parsing QASM. Error parsing qasm number 1. Gates after a measure are blocked\",\"code\":\"QASM_NOT_VALID\",\"statusCode\":400}}\n",
      "Got a 400 code response to https://q-console-api.mybluemix.net/api/Network/ibm-q-internal/Groups/development/Projects/qobj-test/jobs?access_token=e2y97EuoI8GZkhrXvm07hn7MZloBSynfq4wlEyb4vQAELAmn6XhAAP1OC780azC2: {\"error\":{\"status\":400,\"message\":\"Error parsing QASM. Error parsing qasm number 0. Gates after a measure are blocked\",\"code\":\"QASM_NOT_VALID\",\"statusCode\":400}}\n",
      "Got a 400 code response to https://q-console-api.mybluemix.net/api/Network/ibm-q-internal/Groups/development/Projects/qobj-test/jobs?access_token=e2y97EuoI8GZkhrXvm07hn7MZloBSynfq4wlEyb4vQAELAmn6XhAAP1OC780azC2: {\"error\":{\"status\":400,\"message\":\"Error parsing QASM. Error parsing qasm number 1. Gates after a measure are blocked\",\"code\":\"QASM_NOT_VALID\",\"statusCode\":400}}\n",
      "Got a 400 code response to https://q-console-api.mybluemix.net/api/Network/ibm-q-internal/Groups/development/Projects/qobj-test/jobs?access_token=e2y97EuoI8GZkhrXvm07hn7MZloBSynfq4wlEyb4vQAELAmn6XhAAP1OC780azC2: {\"error\":{\"status\":400,\"message\":\"Error parsing QASM. Error parsing qasm number 1. Gates after a measure are blocked\",\"code\":\"QASM_NOT_VALID\",\"statusCode\":400}}\n",
      "\"{'status': 400, 'message': 'Error parsing QASM. Error parsing qasm number 1. Gates after a measure are blocked', 'code': 'QASM_NOT_VALID', 'statusCode': 400}\"\n",
      "test failed:<bound method TestBackendQobj.test_multi_circuit of <__main__.TestBackendQobj testMethod=runTest>>\n"
     ]
    },
    {
     "name": "stdout",
     "output_type": "stream",
     "text": [
      "x"
     ]
    },
    {
     "name": "stderr",
     "output_type": "stream",
     "text": [
      "Got a 400 code response to https://q-console-api.mybluemix.net/api/Network/ibm-q-internal/Groups/development/Projects/qobj-test/jobs?access_token=e2y97EuoI8GZkhrXvm07hn7MZloBSynfq4wlEyb4vQAELAmn6XhAAP1OC780azC2: {\"error\":{\"status\":400,\"message\":\"Error parsing QASM. Error parsing qasm number 0. Gates after a measure are blocked\",\"code\":\"QASM_NOT_VALID\",\"statusCode\":400}}\n",
      "Got a 400 code response to https://q-console-api.mybluemix.net/api/Network/ibm-q-internal/Groups/development/Projects/qobj-test/jobs?access_token=e2y97EuoI8GZkhrXvm07hn7MZloBSynfq4wlEyb4vQAELAmn6XhAAP1OC780azC2: {\"error\":{\"status\":400,\"message\":\"Error parsing QASM. Error parsing qasm number 0. Gates after a measure are blocked\",\"code\":\"QASM_NOT_VALID\",\"statusCode\":400}}\n",
      "Got a 400 code response to https://q-console-api.mybluemix.net/api/Network/ibm-q-internal/Groups/development/Projects/qobj-test/jobs?access_token=e2y97EuoI8GZkhrXvm07hn7MZloBSynfq4wlEyb4vQAELAmn6XhAAP1OC780azC2: {\"error\":{\"status\":400,\"message\":\"Error parsing QASM. Error parsing qasm number 0. Gates after a measure are blocked\",\"code\":\"QASM_NOT_VALID\",\"statusCode\":400}}\n",
      "Got a 400 code response to https://q-console-api.mybluemix.net/api/Network/ibm-q-internal/Groups/development/Projects/qobj-test/jobs?access_token=e2y97EuoI8GZkhrXvm07hn7MZloBSynfq4wlEyb4vQAELAmn6XhAAP1OC780azC2: {\"error\":{\"status\":400,\"message\":\"Error parsing QASM. Error parsing qasm number 0. Gates after a measure are blocked\",\"code\":\"QASM_NOT_VALID\",\"statusCode\":400}}\n",
      "Got a 400 code response to https://q-console-api.mybluemix.net/api/Network/ibm-q-internal/Groups/development/Projects/qobj-test/jobs?access_token=e2y97EuoI8GZkhrXvm07hn7MZloBSynfq4wlEyb4vQAELAmn6XhAAP1OC780azC2: {\"error\":{\"status\":400,\"message\":\"Error parsing QASM. Error parsing qasm number 0. Gates after a measure are blocked\",\"code\":\"QASM_NOT_VALID\",\"statusCode\":400}}\n",
      "\"{'status': 400, 'message': 'Error parsing QASM. Error parsing qasm number 0. Gates after a measure are blocked', 'code': 'QASM_NOT_VALID', 'statusCode': 400}\"\n",
      "test failed:<bound method TestBackendQobj.test_multi_register of <__main__.TestBackendQobj testMethod=runTest>>\n"
     ]
    },
    {
     "name": "stdout",
     "output_type": "stream",
     "text": [
      "x"
     ]
    },
    {
     "name": "stderr",
     "output_type": "stream",
     "text": [
      "('0000': 233 != 1024), ('0101': 276 != 0), ('0100': 238 != 0), ('0001': 277 != 0) within 50 delta\n",
      "test failed:<bound method TestBackendQobj.test_readout_order of <__main__.TestBackendQobj testMethod=runTest>>\n"
     ]
    },
    {
     "name": "stdout",
     "output_type": "stream",
     "text": [
      "x"
     ]
    },
    {
     "name": "stderr",
     "output_type": "stream",
     "text": [
      "('0011': 233 != 0), ('0010': 271 != 0), ('0000': 253 != 0), ('0001': 267 != 0), ('0101': 0 != 1024) within 50 delta\n",
      "test failed:<bound method TestBackendQobj.test_simple_circuit of <__main__.TestBackendQobj testMethod=runTest>>\n",
      "internal error\n",
      "test failed:<bound method TestBackendQobj.test_conditional_operation of <__main__.TestBackendQobj testMethod=runTest>>\n"
     ]
    },
    {
     "name": "stdout",
     "output_type": "stream",
     "text": [
      "xx\n",
      " 6 of 9 tests failed\n"
     ]
    }
   ],
   "source": [
    "#normal atlantis (pinky)\n",
    "backend = backends[1]\n",
    "test_backend(backend)"
   ]
  },
  {
   "cell_type": "code",
   "execution_count": 8,
   "metadata": {},
   "outputs": [
    {
     "name": "stderr",
     "output_type": "stream",
     "text": [
      "False is not true\n",
      "test failed:<bound method TestBackendQobj.test_allow_qobj of <__main__.TestBackendQobj testMethod=runTest>>\n"
     ]
    },
    {
     "name": "stdout",
     "output_type": "stream",
     "text": [
      "Testing: ibmq_qasm_simulator\n",
      "x........\n",
      " 1 of 9 tests failed\n"
     ]
    }
   ],
   "source": [
    "#ibmqx hpc sim  \n",
    "backend = backends[2]\n",
    "test_backend(backend)"
   ]
  },
  {
   "cell_type": "code",
   "execution_count": null,
   "metadata": {},
   "outputs": [],
   "source": []
  }
 ],
 "metadata": {
  "kernelspec": {
   "display_name": "Python 3",
   "language": "python",
   "name": "python3"
  },
  "language_info": {
   "codemirror_mode": {
    "name": "ipython",
    "version": 3
   },
   "file_extension": ".py",
   "mimetype": "text/x-python",
   "name": "python",
   "nbconvert_exporter": "python",
   "pygments_lexer": "ipython3",
   "version": "3.6.6"
  }
 },
 "nbformat": 4,
 "nbformat_minor": 2
}
