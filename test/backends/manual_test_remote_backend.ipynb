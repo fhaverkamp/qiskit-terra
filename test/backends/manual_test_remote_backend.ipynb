{
 "cells": [
  {
   "cell_type": "code",
   "execution_count": 3,
   "metadata": {},
   "outputs": [],
   "source": [
    "import qiskit.extensions.simulator  \n",
    "from qiskit import *\n",
    "\n",
    "import os \n",
    "import sys \n",
    "import unittest\n",
    "import logging\n",
    "#import Qconfig\n",
    "#import QconfigQobj\n",
    "import QConfigCore\n",
    "import QConfigStaging\n",
    "from qiskit.backends.ibmq import IBMQProvider\n",
    "#register(Qconfig.APItoken)\n",
    "#register(QConfigQobj.APItoken, QConfigQobj.config['url'])\n",
    "core_provider = IBMQProvider(QConfigCore.APItoken, QConfigCore.config['url'])\n",
    "#unregister('ibmq_qasm_simulator')\n",
    "staging_provider = IBMQProvider(QConfigStaging.APItoken, QConfigStaging.config['url'])\n",
    "available_backends() # this is all the backends i have access to\n",
    "\n",
    "logger = logging.Logger('error')\n",
    "sys.path.append('../')"
   ]
  },
  {
   "cell_type": "code",
   "execution_count": 4,
   "metadata": {},
   "outputs": [
    {
     "data": {
      "text/plain": [
       "{'ibmq_1_atlantis': <qiskit.backends.ibmq.ibmqbackend.IBMQBackend at 0xa167cd390>,\n",
       " 'ibmq_qasm_simulator': <qiskit.backends.ibmq.ibmqbackend.IBMQBackend at 0xa167cd470>}"
      ]
     },
     "execution_count": 4,
     "metadata": {},
     "output_type": "execute_result"
    }
   ],
   "source": [
    "core_provider.backends"
   ]
  },
  {
   "cell_type": "code",
   "execution_count": 5,
   "metadata": {},
   "outputs": [
    {
     "data": {
      "text/plain": [
       "[<qiskit.backends.local.localprovider.LocalProvider at 0x10d5fb438>]"
      ]
     },
     "execution_count": 5,
     "metadata": {},
     "output_type": "execute_result"
    }
   ],
   "source": [
    "qiskit.registered_providers()"
   ]
  },
  {
   "cell_type": "code",
   "execution_count": 6,
   "metadata": {},
   "outputs": [
    {
     "data": {
      "text/plain": [
       "['local_qasm_simulator',\n",
       " 'local_statevector_simulator',\n",
       " 'local_unitary_simulator']"
      ]
     },
     "execution_count": 6,
     "metadata": {},
     "output_type": "execute_result"
    }
   ],
   "source": [
    "available_backends()"
   ]
  },
  {
   "cell_type": "code",
   "execution_count": 7,
   "metadata": {},
   "outputs": [],
   "source": [
    "backends = ['ibmqx_hpc_qasm_simulator','ibmq_1_atlantis','ibmq_qasm_simulator'] "
   ]
  },
  {
   "cell_type": "code",
   "execution_count": 13,
   "metadata": {},
   "outputs": [],
   "source": [
    "from qiskit.backends.ibmq import IBMQProvider\n",
    "from python.common import Path, QiskitTestCase, requires_qe_access, slow_test\n",
    "\n",
    "\n",
    "class TestBackendQobj(QiskitTestCase):\n",
    "    \"\"\"Qiskit backend qobj test.\"\"\"\n",
    "    \n",
    "    def __init__(self, backend, *args, **kwargs):\n",
    "        self.backend = backend\n",
    "        super(TestBackendQobj, self).__init__(*args, **kwargs)\n",
    "    \n",
    "    def test_operational(self):\n",
    "        local = get_backend('local_qasm_simulator')\n",
    "        remote = self.backend\n",
    "        self.assertTrue(remote.status()['operational'])\n",
    "    \n",
    "    def test_allow_qobj(self):\n",
    "        local = get_backend('local_qasm_simulator')\n",
    "        remote = self.backend\n",
    "        self.assertTrue(remote.configuration()['allow_q_object'])\n",
    "    def test_one_qubit_no_operation(self):\n",
    "        \"\"\"Test one circuit, one register, in-order readout.\n",
    "        \"\"\"\n",
    "        qr = QuantumRegister(1)\n",
    "        cr = ClassicalRegister(1)\n",
    "        circ = QuantumCircuit(qr, cr)\n",
    "        circ.measure(qr[0], cr[0])\n",
    "        local = get_backend('local_qasm_simulator')\n",
    "        remote = self.backend\n",
    "        qobj = compile(circ, remote)\n",
    "        result_remote = remote.run(qobj).result()\n",
    "        result_local = local.run(qobj).result()\n",
    "        self.assertDictAlmostEqual(result_remote.get_counts(circ),\n",
    "                              result_local.get_counts(circ),delta=50)\n",
    "        \n",
    "    def test_one_qubit_operation(self):\n",
    "        \"\"\"Test one circuit, one register, in-order readout.\n",
    "        \"\"\"\n",
    "        qr = QuantumRegister(1)\n",
    "        cr = ClassicalRegister(1)\n",
    "        circ = QuantumCircuit(qr, cr)\n",
    "        circ.x(qr[0])\n",
    "        circ.measure(qr[0], cr[0])\n",
    "        local = get_backend('local_qasm_simulator')\n",
    "        remote = self.backend\n",
    "        qobj = compile(circ, remote)\n",
    "        result_remote = remote.run(qobj).result()\n",
    "        result_local = local.run(qobj).result()\n",
    "        self.assertDictAlmostEqual(result_remote.get_counts(circ),\n",
    "                              result_local.get_counts(circ),delta=50)\n",
    "        \n",
    "    def test_simple_circuit(self):\n",
    "        \"\"\"Test one circuit, one register, in-order readout.\n",
    "        \"\"\"\n",
    "        qr = QuantumRegister(4)\n",
    "        cr = ClassicalRegister(4)\n",
    "        circ = QuantumCircuit(qr, cr)\n",
    "        circ.x(qr[0])\n",
    "        circ.x(qr[2])\n",
    "        circ.measure(qr[0], cr[0])\n",
    "        circ.measure(qr[1], cr[1])\n",
    "        circ.measure(qr[2], cr[2])\n",
    "        circ.measure(qr[3], cr[3])\n",
    "        local = get_backend('local_qasm_simulator')\n",
    "        remote = self.backend\n",
    "        qobj = compile(circ, remote)\n",
    "        result_remote = remote.run(qobj).result()\n",
    "        result_local = local.run(qobj).result()\n",
    "        self.assertDictAlmostEqual(result_remote.get_counts(circ),\n",
    "                              result_local.get_counts(circ),delta=50)\n",
    "\n",
    "\n",
    "    def test_readout_order(self):\n",
    "        \"\"\"Test one circuit, one register, out-of-order readout.\n",
    "        \"\"\"\n",
    "        qr = QuantumRegister(4)\n",
    "        cr = ClassicalRegister(4)\n",
    "        circ = QuantumCircuit(qr, cr)\n",
    "        #circ.x(qr[0])\n",
    "        #circ.x(qr[2])\n",
    "        circ.measure(qr[0], cr[2])\n",
    "        circ.measure(qr[1], cr[0])\n",
    "        circ.measure(qr[2], cr[1])\n",
    "        circ.measure(qr[3], cr[3])\n",
    "        local = get_backend('local_qasm_simulator')\n",
    "        remote = self.backend\n",
    "        qobj_remote = compile(circ, remote)\n",
    "        qobj_local = compile(circ, local)\n",
    "        result_remote = remote.run(qobj_remote).result()\n",
    "        result_local = local.run(qobj_local).result()\n",
    "        self.assertDictAlmostEqual(result_remote.get_counts(circ),\n",
    "                              result_local.get_counts(circ),delta=50)\n",
    "\n",
    "                \n",
    "    def test_multi_register(self):\n",
    "        \"\"\"Test one circuit, two registers, out-of-order readout.\n",
    "        \"\"\"\n",
    "        qr1 = QuantumRegister(2)\n",
    "        qr2 = QuantumRegister(2)\n",
    "        cr1 = ClassicalRegister(3)\n",
    "        cr2 = ClassicalRegister(1)\n",
    "        circ = QuantumCircuit(qr1, qr2, cr1, cr2)\n",
    "        circ.h(qr1[0])\n",
    "        circ.cx(qr1[0], qr2[1])\n",
    "        circ.h(qr2[0])\n",
    "        circ.cx(qr2[0], qr1[1])\n",
    "        circ.x(qr1[1])\n",
    "        circ.measure(qr1[0], cr2[0])\n",
    "        circ.measure(qr1[1], cr1[0])\n",
    "        circ.measure(qr1[1], cr2[0])\n",
    "        circ.measure(qr1[1], cr1[2])\n",
    "        circ.measure(qr2[0], cr1[2])\n",
    "        circ.measure(qr2[1], cr1[1])\n",
    "        local = get_backend('local_qasm_simulator')\n",
    "        remote = self.backend\n",
    "        qobj = compile(circ, remote)\n",
    "        result_remote = remote.run(qobj).result()\n",
    "        result_local = local.run(qobj).result()\n",
    "        self.assertDictAlmostEqual(result_remote.get_counts(circ),\n",
    "                              result_local.get_counts(circ),delta=50)\n",
    "\n",
    "    def test_multi_circuit(self):\n",
    "        \"\"\"Test two circuits, two registers, out-of-order readout.\n",
    "        \"\"\"\n",
    "        qr1 = QuantumRegister(2)\n",
    "        qr2 = QuantumRegister(2)\n",
    "        cr1 = ClassicalRegister(3)\n",
    "        cr2 = ClassicalRegister(1)\n",
    "        circ1 = QuantumCircuit(qr1, qr2, cr1, cr2)\n",
    "        circ1.h(qr1[0])\n",
    "        circ1.cx(qr1[0], qr2[1])\n",
    "        circ1.h(qr2[0])\n",
    "        circ1.cx(qr2[0], qr1[1])\n",
    "        circ1.x(qr1[1])\n",
    "        circ1.measure(qr1[0], cr2[0])\n",
    "        circ1.measure(qr1[1], cr1[0])\n",
    "        circ1.measure(qr1[0], cr2[0])\n",
    "        circ1.measure(qr1[1], cr1[2])\n",
    "        circ1.measure(qr2[0], cr1[2])\n",
    "        circ1.measure(qr2[1], cr1[1])\n",
    "        circ2 = QuantumCircuit(qr1, qr2, cr1)\n",
    "        circ2.h(qr1[0])\n",
    "        circ2.cx(qr1[0], qr1[1])\n",
    "        circ2.h(qr2[1])\n",
    "        circ2.cx(qr2[1], qr1[1])\n",
    "        circ2.measure(qr1[0], cr1[0])\n",
    "        circ2.measure(qr1[1], cr1[1])\n",
    "        circ2.measure(qr1[0], cr1[2])\n",
    "        circ2.measure(qr2[1], cr1[2])\n",
    "        local = get_backend('local_qasm_simulator')\n",
    "        remote = self.backend\n",
    "\n",
    "        qobj = compile([circ1, circ2], remote)\n",
    "        result_remote = remote.run(qobj).result()\n",
    "        result_local = local.run(qobj).result()\n",
    "        self.assertDictAlmostEqual(result_remote.get_counts(circ1),\n",
    "                              result_local.get_counts(circ1),delta=50)\n",
    "        self.assertDictAlmostEqual(result_remote.get_counts(circ2),\n",
    "                              result_local.get_counts(circ2),delta=50)\n",
    "    \n",
    "    def test_conditional_operation(self):\n",
    "        \"\"\"Test conditional operation. \n",
    "        \"\"\"\n",
    "        qr = QuantumRegister(4)\n",
    "        cr = ClassicalRegister(4)\n",
    "        circ = QuantumCircuit(qr, cr)\n",
    "        circ.x(qr[0])\n",
    "        circ.x(qr[2])\n",
    "        circ.measure(qr[0], cr[0])\n",
    "        circ.x(qr[0]).c_if(cr,1)\n",
    "        local = get_backend('local_qasm_simulator')\n",
    "        remote = self.backend\n",
    "\n",
    "        qobj = compile(circ, remote)\n",
    "        result_remote = remote.run(qobj).result()\n",
    "        result_local = local.run(qobj).result()\n",
    "        self.assertDictAlmostEqual(result_remote.get_counts(circ),\n",
    "                              result_local.get_counts(circ),delta=50)\n",
    "    \n",
    "    def test_erick_circuit(self):\n",
    "        \"\"\"Test one circuit, one register, in-order readout.\n",
    "        \"\"\"\n",
    "        qr = QuantumRegister(3)\n",
    "        cr = ClassicalRegister(3)\n",
    "        circ= QuantumCircuit(qr, cr)\n",
    "        circ.x(qr[0])\n",
    "        circ.x(qr[2])\n",
    "        circ.measure(qr, cr)\n",
    "        local = get_backend('local_qasm_simulator')\n",
    "        remote = self.backend\n",
    "        qobj = compile(circ, remote)\n",
    "        import pdb;pdb.set_trace()\n",
    "        result_remote = remote.run(qobj).result()\n",
    "        result_local = local.run(qobj).result()\n",
    "        self.assertDictAlmostEqual(result_remote.get_counts(circ),\n",
    "                              result_local.get_counts(circ),delta=50)"
   ]
  },
  {
   "cell_type": "code",
   "execution_count": 17,
   "metadata": {},
   "outputs": [],
   "source": [
    "def test_backend(backend,name=None):\n",
    "    if name is None:\n",
    "        name = str(backend)\n",
    "    print(\"Testing: {}\".format(name))\n",
    "    testbackend = TestBackendQobj(backend)\n",
    "    test_methods = [testbackend.test_erick_circuit, testbackend.test_allow_qobj,testbackend.test_operational,testbackend.test_one_qubit_operation,\n",
    "                    testbackend.test_one_qubit_no_operation,testbackend.test_multi_circuit,testbackend.test_multi_register,\n",
    "               testbackend.test_readout_order,testbackend.test_simple_circuit,testbackend.test_conditional_operation]\n",
    "\n",
    "    failed = 0 \n",
    "    for test in test_methods:\n",
    "        try:\n",
    "            test()\n",
    "            print('.',end='')\n",
    "        except Exception as err:\n",
    "            failed += 1\n",
    "            print('x',end='')\n",
    "            logger.warning(err)\n",
    "            logger.error('test failed:{}'.format(str(test)))\n",
    "    print('\\n {0} of {1} tests failed'.format(failed,len(test_methods)))"
   ]
  },
  {
   "cell_type": "code",
   "execution_count": 18,
   "metadata": {},
   "outputs": [
    {
     "data": {
      "text/plain": [
       "{'ibmq_1_atlantis': <qiskit.backends.ibmq.ibmqbackend.IBMQBackend at 0xa167cd390>,\n",
       " 'ibmq_qasm_simulator': <qiskit.backends.ibmq.ibmqbackend.IBMQBackend at 0xa167cd470>}"
      ]
     },
     "execution_count": 18,
     "metadata": {},
     "output_type": "execute_result"
    }
   ],
   "source": [
    "core_provider.backends"
   ]
  },
  {
   "cell_type": "code",
   "execution_count": 9,
   "metadata": {},
   "outputs": [
    {
     "name": "stdout",
     "output_type": "stream",
     "text": [
      "Testing: ibmq_1_atlantis\n"
     ]
    },
    {
     "name": "stderr",
     "output_type": "stream",
     "text": [
      "('0x4': 400 != 0), ('0x0': 560 != 0), ('101': 0 != 1024) within 50 delta\n",
      "test failed:<bound method TestBackendQobj.test_erick_circuit of <__main__.TestBackendQobj testMethod=runTest>>\n"
     ]
    },
    {
     "name": "stdout",
     "output_type": "stream",
     "text": [
      "x.."
     ]
    },
    {
     "name": "stderr",
     "output_type": "stream",
     "text": [
      "('0x0': 991 != 0), ('1': 0 != 1024) within 50 delta\n",
      "test failed:<bound method TestBackendQobj.test_one_qubit_operation of <__main__.TestBackendQobj testMethod=runTest>>\n"
     ]
    },
    {
     "name": "stdout",
     "output_type": "stream",
     "text": [
      "x"
     ]
    },
    {
     "name": "stderr",
     "output_type": "stream",
     "text": [
      "('0x1': 197 != 0), ('0x0': 827 != 0), ('0': 0 != 1024) within 50 delta\n",
      "test failed:<bound method TestBackendQobj.test_one_qubit_no_operation of <__main__.TestBackendQobj testMethod=runTest>>\n"
     ]
    },
    {
     "name": "stdout",
     "output_type": "stream",
     "text": [
      "x"
     ]
    },
    {
     "name": "stderr",
     "output_type": "stream",
     "text": [
      "('0x4': 59 != 0), ('0xC': 53 != 0), ('0x0': 72 != 0), ('0x6': 129 != 0), ('0xD': 149 != 0), ('0x2': 174 != 0), ('0xA': 75 != 0), ('0x5': 102 != 0), ('0x8': 59 != 0), ('0x7': 111 != 0), ('1 011': 0 != 263), ('1 110': 0 != 246), ('0 001': 0 != 247), ('0 100': 0 != 268) within 50 delta\n",
      "test failed:<bound method TestBackendQobj.test_multi_circuit of <__main__.TestBackendQobj testMethod=runTest>>\n"
     ]
    },
    {
     "name": "stdout",
     "output_type": "stream",
     "text": [
      "x"
     ]
    },
    {
     "name": "stderr",
     "output_type": "stream",
     "text": [
      "('0xF': 270 != 0), ('0xD': 187 != 0), ('0x2': 148 != 0), ('0xE': 76 != 0), ('0x8': 186 != 0), ('1 001': 0 != 250), ('0 110': 0 != 272), ('0 100': 0 != 238), ('1 011': 0 != 264) within 50 delta\n",
      "test failed:<bound method TestBackendQobj.test_multi_register of <__main__.TestBackendQobj testMethod=runTest>>\n"
     ]
    },
    {
     "name": "stdout",
     "output_type": "stream",
     "text": [
      "x"
     ]
    },
    {
     "name": "stderr",
     "output_type": "stream",
     "text": [
      "('0x0': 152 != 0), ('0x8': 173 != 0), ('0xA': 232 != 0), ('0x2': 152 != 0), ('0000': 0 != 1024) within 50 delta\n",
      "test failed:<bound method TestBackendQobj.test_readout_order of <__main__.TestBackendQobj testMethod=runTest>>\n"
     ]
    },
    {
     "name": "stdout",
     "output_type": "stream",
     "text": [
      "x"
     ]
    },
    {
     "name": "stderr",
     "output_type": "stream",
     "text": [
      "('0x4': 72 != 0), ('0xC': 502 != 0), ('0x0': 94 != 0), ('0x8': 280 != 0), ('0101': 0 != 1024) within 50 delta\n",
      "test failed:<bound method TestBackendQobj.test_simple_circuit of <__main__.TestBackendQobj testMethod=runTest>>\n",
      "internal error\n",
      "test failed:<bound method TestBackendQobj.test_conditional_operation of <__main__.TestBackendQobj testMethod=runTest>>\n"
     ]
    },
    {
     "name": "stdout",
     "output_type": "stream",
     "text": [
      "xx\n",
      " 8 of 10 tests failed\n"
     ]
    }
   ],
   "source": [
    "#ibmq atlantis\n",
    "name = 'ibmq_1_atlantis'\n",
    "backend = core_provider.backends[name]\n",
    "test_backend(backend,name)"
   ]
  },
  {
   "cell_type": "code",
   "execution_count": 10,
   "metadata": {},
   "outputs": [
    {
     "name": "stdout",
     "output_type": "stream",
     "text": [
      "Testing: ibmq_qasm_simulator\n"
     ]
    },
    {
     "name": "stderr",
     "output_type": "stream",
     "text": [
      "False is not true\n",
      "test failed:<bound method TestBackendQobj.test_allow_qobj of <__main__.TestBackendQobj testMethod=runTest>>\n"
     ]
    },
    {
     "name": "stdout",
     "output_type": "stream",
     "text": [
      ".x........\n",
      " 1 of 10 tests failed\n"
     ]
    }
   ],
   "source": [
    "#ibmq ibmq qasm sim \n",
    "name = 'ibmq_qasm_simulator'\n",
    "backend = core_provider.backends[name]\n",
    "test_backend(backend,name)"
   ]
  },
  {
   "cell_type": "code",
   "execution_count": 11,
   "metadata": {},
   "outputs": [
    {
     "data": {
      "text/plain": [
       "{'ibmqx_hpc_qasm_simulator': <qiskit.backends.ibmq.ibmqbackend.IBMQBackend at 0xa20e01c88>,\n",
       " 'ibmq_qasm_simulator': <qiskit.backends.ibmq.ibmqbackend.IBMQBackend at 0xa20e01160>}"
      ]
     },
     "execution_count": 11,
     "metadata": {},
     "output_type": "execute_result"
    }
   ],
   "source": [
    "staging_provider.backends"
   ]
  },
  {
   "cell_type": "code",
   "execution_count": 12,
   "metadata": {},
   "outputs": [
    {
     "name": "stdout",
     "output_type": "stream",
     "text": [
      "Testing: ibmqx_hpc_qasm_simulator\n"
     ]
    },
    {
     "ename": "KeyboardInterrupt",
     "evalue": "",
     "output_type": "error",
     "traceback": [
      "\u001b[0;31m---------------------------------------------------------------------------\u001b[0m",
      "\u001b[0;31mKeyboardInterrupt\u001b[0m                         Traceback (most recent call last)",
      "\u001b[0;32m<ipython-input-12-b1fc6d82ce25>\u001b[0m in \u001b[0;36m<module>\u001b[0;34m()\u001b[0m\n\u001b[1;32m      2\u001b[0m \u001b[0mname\u001b[0m \u001b[0;34m=\u001b[0m \u001b[0;34m'ibmqx_hpc_qasm_simulator'\u001b[0m\u001b[0;34m\u001b[0m\u001b[0m\n\u001b[1;32m      3\u001b[0m \u001b[0mbackend\u001b[0m \u001b[0;34m=\u001b[0m \u001b[0mstaging_provider\u001b[0m\u001b[0;34m.\u001b[0m\u001b[0mbackends\u001b[0m\u001b[0;34m[\u001b[0m\u001b[0mname\u001b[0m\u001b[0;34m]\u001b[0m\u001b[0;34m\u001b[0m\u001b[0m\n\u001b[0;32m----> 4\u001b[0;31m \u001b[0mtest_backend\u001b[0m\u001b[0;34m(\u001b[0m\u001b[0mbackend\u001b[0m\u001b[0;34m,\u001b[0m\u001b[0mname\u001b[0m\u001b[0;34m)\u001b[0m\u001b[0;34m\u001b[0m\u001b[0m\n\u001b[0m",
      "\u001b[0;32m<ipython-input-7-6ca8340d882a>\u001b[0m in \u001b[0;36mtest_backend\u001b[0;34m(backend, name)\u001b[0m\n\u001b[1;32m     11\u001b[0m     \u001b[0;32mfor\u001b[0m \u001b[0mtest\u001b[0m \u001b[0;32min\u001b[0m \u001b[0mtest_methods\u001b[0m\u001b[0;34m:\u001b[0m\u001b[0;34m\u001b[0m\u001b[0m\n\u001b[1;32m     12\u001b[0m         \u001b[0;32mtry\u001b[0m\u001b[0;34m:\u001b[0m\u001b[0;34m\u001b[0m\u001b[0m\n\u001b[0;32m---> 13\u001b[0;31m             \u001b[0mtest\u001b[0m\u001b[0;34m(\u001b[0m\u001b[0;34m)\u001b[0m\u001b[0;34m\u001b[0m\u001b[0m\n\u001b[0m\u001b[1;32m     14\u001b[0m             \u001b[0mprint\u001b[0m\u001b[0;34m(\u001b[0m\u001b[0;34m'.'\u001b[0m\u001b[0;34m,\u001b[0m\u001b[0mend\u001b[0m\u001b[0;34m=\u001b[0m\u001b[0;34m''\u001b[0m\u001b[0;34m)\u001b[0m\u001b[0;34m\u001b[0m\u001b[0m\n\u001b[1;32m     15\u001b[0m         \u001b[0;32mexcept\u001b[0m \u001b[0mException\u001b[0m \u001b[0;32mas\u001b[0m \u001b[0merr\u001b[0m\u001b[0;34m:\u001b[0m\u001b[0;34m\u001b[0m\u001b[0m\n",
      "\u001b[0;32m<ipython-input-6-224ea11fe8d2>\u001b[0m in \u001b[0;36mtest_erick_circuit\u001b[0;34m(self)\u001b[0m\n\u001b[1;32m    190\u001b[0m         \u001b[0mremote\u001b[0m \u001b[0;34m=\u001b[0m \u001b[0mself\u001b[0m\u001b[0;34m.\u001b[0m\u001b[0mbackend\u001b[0m\u001b[0;34m\u001b[0m\u001b[0m\n\u001b[1;32m    191\u001b[0m         \u001b[0mqobj\u001b[0m \u001b[0;34m=\u001b[0m \u001b[0mcompile\u001b[0m\u001b[0;34m(\u001b[0m\u001b[0mcirc\u001b[0m\u001b[0;34m,\u001b[0m \u001b[0mremote\u001b[0m\u001b[0;34m)\u001b[0m\u001b[0;34m\u001b[0m\u001b[0m\n\u001b[0;32m--> 192\u001b[0;31m         \u001b[0mresult_remote\u001b[0m \u001b[0;34m=\u001b[0m \u001b[0mremote\u001b[0m\u001b[0;34m.\u001b[0m\u001b[0mrun\u001b[0m\u001b[0;34m(\u001b[0m\u001b[0mqobj\u001b[0m\u001b[0;34m)\u001b[0m\u001b[0;34m.\u001b[0m\u001b[0mresult\u001b[0m\u001b[0;34m(\u001b[0m\u001b[0;34m)\u001b[0m\u001b[0;34m\u001b[0m\u001b[0m\n\u001b[0m\u001b[1;32m    193\u001b[0m         \u001b[0mresult_local\u001b[0m \u001b[0;34m=\u001b[0m \u001b[0mlocal\u001b[0m\u001b[0;34m.\u001b[0m\u001b[0mrun\u001b[0m\u001b[0;34m(\u001b[0m\u001b[0mqobj\u001b[0m\u001b[0;34m)\u001b[0m\u001b[0;34m.\u001b[0m\u001b[0mresult\u001b[0m\u001b[0;34m(\u001b[0m\u001b[0;34m)\u001b[0m\u001b[0;34m\u001b[0m\u001b[0m\n\u001b[1;32m    194\u001b[0m         self.assertDictAlmostEqual(result_remote.get_counts(circ),\n",
      "\u001b[0;32m~/anaconda3/envs/openpulse/lib/python3.6/site-packages/qiskit-_QISKIT_VERSION_-py3.6-macosx-10.7-x86_64.egg/qiskit/backends/ibmq/ibmqjob.py\u001b[0m in \u001b[0;36mresult\u001b[0;34m(self, timeout, wait)\u001b[0m\n\u001b[1;32m    185\u001b[0m             \u001b[0mJobError\u001b[0m\u001b[0;34m:\u001b[0m \u001b[0mexception\u001b[0m \u001b[0mraised\u001b[0m \u001b[0mduring\u001b[0m \u001b[0mjob\u001b[0m \u001b[0minitialization\u001b[0m\u001b[0;34m\u001b[0m\u001b[0m\n\u001b[1;32m    186\u001b[0m         \"\"\"\n\u001b[0;32m--> 187\u001b[0;31m         \u001b[0mjob_response\u001b[0m \u001b[0;34m=\u001b[0m \u001b[0mself\u001b[0m\u001b[0;34m.\u001b[0m\u001b[0m_wait_for_result\u001b[0m\u001b[0;34m(\u001b[0m\u001b[0mtimeout\u001b[0m\u001b[0;34m=\u001b[0m\u001b[0mtimeout\u001b[0m\u001b[0;34m,\u001b[0m \u001b[0mwait\u001b[0m\u001b[0;34m=\u001b[0m\u001b[0mwait\u001b[0m\u001b[0;34m)\u001b[0m\u001b[0;34m\u001b[0m\u001b[0m\n\u001b[0m\u001b[1;32m    188\u001b[0m         \u001b[0;32mreturn\u001b[0m \u001b[0mself\u001b[0m\u001b[0;34m.\u001b[0m\u001b[0m_result_from_job_response\u001b[0m\u001b[0;34m(\u001b[0m\u001b[0mjob_response\u001b[0m\u001b[0;34m)\u001b[0m\u001b[0;34m\u001b[0m\u001b[0m\n\u001b[1;32m    189\u001b[0m \u001b[0;34m\u001b[0m\u001b[0m\n",
      "\u001b[0;32m~/anaconda3/envs/openpulse/lib/python3.6/site-packages/qiskit-_QISKIT_VERSION_-py3.6-macosx-10.7-x86_64.egg/qiskit/backends/ibmq/ibmqjob.py\u001b[0m in \u001b[0;36m_wait_for_result\u001b[0;34m(self, timeout, wait)\u001b[0m\n\u001b[1;32m    192\u001b[0m \u001b[0;34m\u001b[0m\u001b[0m\n\u001b[1;32m    193\u001b[0m         \u001b[0;32mtry\u001b[0m\u001b[0;34m:\u001b[0m\u001b[0;34m\u001b[0m\u001b[0m\n\u001b[0;32m--> 194\u001b[0;31m             \u001b[0mjob_response\u001b[0m \u001b[0;34m=\u001b[0m \u001b[0mself\u001b[0m\u001b[0;34m.\u001b[0m\u001b[0m_wait_for_job\u001b[0m\u001b[0;34m(\u001b[0m\u001b[0mtimeout\u001b[0m\u001b[0;34m=\u001b[0m\u001b[0mtimeout\u001b[0m\u001b[0;34m,\u001b[0m \u001b[0mwait\u001b[0m\u001b[0;34m=\u001b[0m\u001b[0mwait\u001b[0m\u001b[0;34m)\u001b[0m\u001b[0;34m\u001b[0m\u001b[0m\n\u001b[0m\u001b[1;32m    195\u001b[0m         \u001b[0;32mexcept\u001b[0m \u001b[0mApiError\u001b[0m \u001b[0;32mas\u001b[0m \u001b[0mapi_err\u001b[0m\u001b[0;34m:\u001b[0m\u001b[0;34m\u001b[0m\u001b[0m\n\u001b[1;32m    196\u001b[0m             \u001b[0;32mraise\u001b[0m \u001b[0mJobError\u001b[0m\u001b[0;34m(\u001b[0m\u001b[0mstr\u001b[0m\u001b[0;34m(\u001b[0m\u001b[0mapi_err\u001b[0m\u001b[0;34m)\u001b[0m\u001b[0;34m)\u001b[0m\u001b[0;34m\u001b[0m\u001b[0m\n",
      "\u001b[0;32m~/anaconda3/envs/openpulse/lib/python3.6/site-packages/qiskit-_QISKIT_VERSION_-py3.6-macosx-10.7-x86_64.egg/qiskit/backends/ibmq/ibmqjob.py\u001b[0m in \u001b[0;36m_wait_for_job\u001b[0;34m(self, timeout, wait)\u001b[0m\n\u001b[1;32m    390\u001b[0m \u001b[0;34m\u001b[0m\u001b[0m\n\u001b[1;32m    391\u001b[0m             \u001b[0mlogger\u001b[0m\u001b[0;34m.\u001b[0m\u001b[0minfo\u001b[0m\u001b[0;34m(\u001b[0m\u001b[0;34m'status = %s (%d seconds)'\u001b[0m\u001b[0;34m,\u001b[0m \u001b[0mself\u001b[0m\u001b[0;34m.\u001b[0m\u001b[0m_status\u001b[0m\u001b[0;34m,\u001b[0m \u001b[0melapsed_time\u001b[0m\u001b[0;34m)\u001b[0m\u001b[0;34m\u001b[0m\u001b[0m\n\u001b[0;32m--> 392\u001b[0;31m             \u001b[0mtime\u001b[0m\u001b[0;34m.\u001b[0m\u001b[0msleep\u001b[0m\u001b[0;34m(\u001b[0m\u001b[0mwait\u001b[0m\u001b[0;34m)\u001b[0m\u001b[0;34m\u001b[0m\u001b[0m\n\u001b[0m\u001b[1;32m    393\u001b[0m \u001b[0;34m\u001b[0m\u001b[0m\n\u001b[1;32m    394\u001b[0m         \u001b[0;32mif\u001b[0m \u001b[0mself\u001b[0m\u001b[0;34m.\u001b[0m\u001b[0m_cancelled\u001b[0m\u001b[0;34m:\u001b[0m\u001b[0;34m\u001b[0m\u001b[0m\n",
      "\u001b[0;31mKeyboardInterrupt\u001b[0m: "
     ]
    }
   ],
   "source": [
    "#hpc staging\n",
    "name = 'ibmqx_hpc_qasm_simulator'\n",
    "backend = staging_provider.backends[name]\n",
    "test_backend(backend,name)"
   ]
  },
  {
   "cell_type": "code",
   "execution_count": null,
   "metadata": {},
   "outputs": [
    {
     "name": "stdout",
     "output_type": "stream",
     "text": [
      "Testing: ibmq_qasm_simulator\n",
      "> <ipython-input-13-e853567967aa>(193)test_erick_circuit()\n",
      "-> result_remote = remote.run(qobj).result()\n",
      "(Pdb) qobj\n",
      "Qobj(config=QobjConfig(max_credits=10, memory_slots=3, n_qubits=3, shots=1024), experiments=[QobjExperiment(config=QobjItem(basis_gates='u1,u2,u3,cx,id', coupling_map='all-to-all', layout=None, memory_slots=3, n_qubits=3), header=QobjItem(clbit_labels=[['c3', 3]], compiled_circuit_qasm='OPENQASM 2.0;\\ninclude \"qelib1.inc\";\\nqreg q3[3];\\ncreg c3[3];\\nmeasure q3[1] -> c3[1];\\nu3(3.14159265358979,0,3.14159265358979) q3[2];\\nmeasure q3[2] -> c3[2];\\nu3(3.14159265358979,0,3.14159265358979) q3[0];\\nmeasure q3[0] -> c3[0];\\n', name='circuit4', number_of_clbits=3, number_of_qubits=3, qubit_labels=[['q3', 0], ['q3', 1], ['q3', 2]]), instructions=[QobjItem(name='u3', params=[3.141592653589793, 0.0, 3.141592653589793], qubits=[2], texparams=['\\\\pi', '0', '\\\\pi']), QobjItem(clbits=[2], memory=[2], name='measure', qubits=[2]), QobjItem(clbits=[1], memory=[1], name='measure', qubits=[1]), QobjItem(name='u3', params=[3.141592653589793, 0.0, 3.141592653589793], qubits=[0], texparams=['\\\\pi', '0', '\\\\pi']), QobjItem(clbits=[0], memory=[0], name='measure', qubits=[0])])], header=QobjHeader(backend_name='ibmq_qasm_simulator'), qobj_id='ba3ca765-b36b-468c-9704-7051feadfe67', schema_version='1.0.0', type='QASM')\n",
      "(Pdb) from qiskit.qobj import qobj_to_dict\n",
      "(Pdb) qobj_to_dict(qobj)\n",
      "{'qobj_id': 'ba3ca765-b36b-468c-9704-7051feadfe67', 'config': {'shots': 1024, 'memory_slots': 3, 'max_credits': 10, 'n_qubits': 3}, 'experiments': [{'instructions': [{'name': 'u3', 'params': [3.141592653589793, 0.0, 3.141592653589793], 'texparams': ['\\\\pi', '0', '\\\\pi'], 'qubits': [2]}, {'name': 'measure', 'qubits': [2], 'clbits': [2], 'memory': [2]}, {'name': 'measure', 'qubits': [1], 'clbits': [1], 'memory': [1]}, {'name': 'u3', 'params': [3.141592653589793, 0.0, 3.141592653589793], 'texparams': ['\\\\pi', '0', '\\\\pi'], 'qubits': [0]}, {'name': 'measure', 'qubits': [0], 'clbits': [0], 'memory': [0]}], 'header': {'number_of_qubits': 3, 'number_of_clbits': 3, 'qubit_labels': [['q3', 0], ['q3', 1], ['q3', 2]], 'clbit_labels': [['c3', 3]], 'name': 'circuit4', 'compiled_circuit_qasm': 'OPENQASM 2.0;\\ninclude \"qelib1.inc\";\\nqreg q3[3];\\ncreg c3[3];\\nmeasure q3[1] -> c3[1];\\nu3(3.14159265358979,0,3.14159265358979) q3[2];\\nmeasure q3[2] -> c3[2];\\nu3(3.14159265358979,0,3.14159265358979) q3[0];\\nmeasure q3[0] -> c3[0];\\n'}, 'config': {'coupling_map': 'all-to-all', 'basis_gates': 'u1,u2,u3,cx,id', 'layout': None, 'memory_slots': 3, 'n_qubits': 3}}], 'header': {'backend_name': 'ibmq_qasm_simulator'}, 'type': 'QASM', 'schema_version': '1.0.0'}\n",
      "(Pdb) import json\n",
      "(Pdb) j = json.dumps(qobj_to_dict(qobj), indent=4)\n",
      "*** The 'jump' command requires a line number\n",
      "(Pdb) j = json.dumps(d, indent=4)j = json.dumps(qobj_to_dict(qobj))\n",
      "*** The 'jump' command requires a line number\n",
      "(Pdb) j = json.dumps(qobj_to_dict(qobj))\n",
      "*** The 'jump' command requires a line number\n",
      "(Pdb) qd = qobj_to_dict(qobj)\n",
      "(Pdb) qd\n",
      "{'qobj_id': 'ba3ca765-b36b-468c-9704-7051feadfe67', 'config': {'shots': 1024, 'memory_slots': 3, 'max_credits': 10, 'n_qubits': 3}, 'experiments': [{'instructions': [{'name': 'u3', 'params': [3.141592653589793, 0.0, 3.141592653589793], 'texparams': ['\\\\pi', '0', '\\\\pi'], 'qubits': [2]}, {'name': 'measure', 'qubits': [2], 'clbits': [2], 'memory': [2]}, {'name': 'measure', 'qubits': [1], 'clbits': [1], 'memory': [1]}, {'name': 'u3', 'params': [3.141592653589793, 0.0, 3.141592653589793], 'texparams': ['\\\\pi', '0', '\\\\pi'], 'qubits': [0]}, {'name': 'measure', 'qubits': [0], 'clbits': [0], 'memory': [0]}], 'header': {'number_of_qubits': 3, 'number_of_clbits': 3, 'qubit_labels': [['q3', 0], ['q3', 1], ['q3', 2]], 'clbit_labels': [['c3', 3]], 'name': 'circuit4', 'compiled_circuit_qasm': 'OPENQASM 2.0;\\ninclude \"qelib1.inc\";\\nqreg q3[3];\\ncreg c3[3];\\nmeasure q3[1] -> c3[1];\\nu3(3.14159265358979,0,3.14159265358979) q3[2];\\nmeasure q3[2] -> c3[2];\\nu3(3.14159265358979,0,3.14159265358979) q3[0];\\nmeasure q3[0] -> c3[0];\\n'}, 'config': {'coupling_map': 'all-to-all', 'basis_gates': 'u1,u2,u3,cx,id', 'layout': None, 'memory_slots': 3, 'n_qubits': 3}}], 'header': {'backend_name': 'ibmq_qasm_simulator'}, 'type': 'QASM', 'schema_version': '1.0.0'}\n",
      "(Pdb) import json\n",
      "(Pdb) json.dumps(qd)\n",
      "'{\"qobj_id\": \"ba3ca765-b36b-468c-9704-7051feadfe67\", \"config\": {\"shots\": 1024, \"memory_slots\": 3, \"max_credits\": 10, \"n_qubits\": 3}, \"experiments\": [{\"instructions\": [{\"name\": \"u3\", \"params\": [3.141592653589793, 0.0, 3.141592653589793], \"texparams\": [\"\\\\\\\\pi\", \"0\", \"\\\\\\\\pi\"], \"qubits\": [2]}, {\"name\": \"measure\", \"qubits\": [2], \"clbits\": [2], \"memory\": [2]}, {\"name\": \"measure\", \"qubits\": [1], \"clbits\": [1], \"memory\": [1]}, {\"name\": \"u3\", \"params\": [3.141592653589793, 0.0, 3.141592653589793], \"texparams\": [\"\\\\\\\\pi\", \"0\", \"\\\\\\\\pi\"], \"qubits\": [0]}, {\"name\": \"measure\", \"qubits\": [0], \"clbits\": [0], \"memory\": [0]}], \"header\": {\"number_of_qubits\": 3, \"number_of_clbits\": 3, \"qubit_labels\": [[\"q3\", 0], [\"q3\", 1], [\"q3\", 2]], \"clbit_labels\": [[\"c3\", 3]], \"name\": \"circuit4\", \"compiled_circuit_qasm\": \"OPENQASM 2.0;\\\\ninclude \\\\\"qelib1.inc\\\\\";\\\\nqreg q3[3];\\\\ncreg c3[3];\\\\nmeasure q3[1] -> c3[1];\\\\nu3(3.14159265358979,0,3.14159265358979) q3[2];\\\\nmeasure q3[2] -> c3[2];\\\\nu3(3.14159265358979,0,3.14159265358979) q3[0];\\\\nmeasure q3[0] -> c3[0];\\\\n\"}, \"config\": {\"coupling_map\": \"all-to-all\", \"basis_gates\": \"u1,u2,u3,cx,id\", \"layout\": null, \"memory_slots\": 3, \"n_qubits\": 3}}], \"header\": {\"backend_name\": \"ibmq_qasm_simulator\"}, \"type\": \"QASM\", \"schema_version\": \"1.0.0\"}'\n",
      "(Pdb) json.dumps(qd, indent=4)\n",
      "'{\\n    \"qobj_id\": \"ba3ca765-b36b-468c-9704-7051feadfe67\",\\n    \"config\": {\\n        \"shots\": 1024,\\n        \"memory_slots\": 3,\\n        \"max_credits\": 10,\\n        \"n_qubits\": 3\\n    },\\n    \"experiments\": [\\n        {\\n            \"instructions\": [\\n                {\\n                    \"name\": \"u3\",\\n                    \"params\": [\\n                        3.141592653589793,\\n                        0.0,\\n                        3.141592653589793\\n                    ],\\n                    \"texparams\": [\\n                        \"\\\\\\\\pi\",\\n                        \"0\",\\n                        \"\\\\\\\\pi\"\\n                    ],\\n                    \"qubits\": [\\n                        2\\n                    ]\\n                },\\n                {\\n                    \"name\": \"measure\",\\n                    \"qubits\": [\\n                        2\\n                    ],\\n                    \"clbits\": [\\n                        2\\n                    ],\\n                    \"memory\": [\\n                        2\\n                    ]\\n                },\\n                {\\n                    \"name\": \"measure\",\\n                    \"qubits\": [\\n                        1\\n                    ],\\n                    \"clbits\": [\\n                        1\\n                    ],\\n                    \"memory\": [\\n                        1\\n                    ]\\n                },\\n                {\\n                    \"name\": \"u3\",\\n                    \"params\": [\\n                        3.141592653589793,\\n                        0.0,\\n                        3.141592653589793\\n                    ],\\n                    \"texparams\": [\\n                        \"\\\\\\\\pi\",\\n                        \"0\",\\n                        \"\\\\\\\\pi\"\\n                    ],\\n                    \"qubits\": [\\n                        0\\n                    ]\\n                },\\n                {\\n                    \"name\": \"measure\",\\n                    \"qubits\": [\\n                        0\\n                    ],\\n                    \"clbits\": [\\n                        0\\n                    ],\\n                    \"memory\": [\\n                        0\\n                    ]\\n                }\\n            ],\\n            \"header\": {\\n                \"number_of_qubits\": 3,\\n                \"number_of_clbits\": 3,\\n                \"qubit_labels\": [\\n                    [\\n                        \"q3\",\\n                        0\\n                    ],\\n                    [\\n                        \"q3\",\\n                        1\\n                    ],\\n                    [\\n                        \"q3\",\\n                        2\\n                    ]\\n                ],\\n                \"clbit_labels\": [\\n                    [\\n                        \"c3\",\\n                        3\\n                    ]\\n                ],\\n                \"name\": \"circuit4\",\\n                \"compiled_circuit_qasm\": \"OPENQASM 2.0;\\\\ninclude \\\\\"qelib1.inc\\\\\";\\\\nqreg q3[3];\\\\ncreg c3[3];\\\\nmeasure q3[1] -> c3[1];\\\\nu3(3.14159265358979,0,3.14159265358979) q3[2];\\\\nmeasure q3[2] -> c3[2];\\\\nu3(3.14159265358979,0,3.14159265358979) q3[0];\\\\nmeasure q3[0] -> c3[0];\\\\n\"\\n            },\\n            \"config\": {\\n                \"coupling_map\": \"all-to-all\",\\n                \"basis_gates\": \"u1,u2,u3,cx,id\",\\n                \"layout\": null,\\n                \"memory_slots\": 3,\\n                \"n_qubits\": 3\\n            }\\n        }\\n    ],\\n    \"header\": {\\n        \"backend_name\": \"ibmq_qasm_simulator\"\\n    },\\n    \"type\": \"QASM\",\\n    \"schema_version\": \"1.0.0\"\\n}'\n"
     ]
    },
    {
     "name": "stdout",
     "output_type": "stream",
     "text": [
      "(Pdb) json.dumps(qd)\n",
      "'{\"qobj_id\": \"ba3ca765-b36b-468c-9704-7051feadfe67\", \"config\": {\"shots\": 1024, \"memory_slots\": 3, \"max_credits\": 10, \"n_qubits\": 3}, \"experiments\": [{\"instructions\": [{\"name\": \"u3\", \"params\": [3.141592653589793, 0.0, 3.141592653589793], \"texparams\": [\"\\\\\\\\pi\", \"0\", \"\\\\\\\\pi\"], \"qubits\": [2]}, {\"name\": \"measure\", \"qubits\": [2], \"clbits\": [2], \"memory\": [2]}, {\"name\": \"measure\", \"qubits\": [1], \"clbits\": [1], \"memory\": [1]}, {\"name\": \"u3\", \"params\": [3.141592653589793, 0.0, 3.141592653589793], \"texparams\": [\"\\\\\\\\pi\", \"0\", \"\\\\\\\\pi\"], \"qubits\": [0]}, {\"name\": \"measure\", \"qubits\": [0], \"clbits\": [0], \"memory\": [0]}], \"header\": {\"number_of_qubits\": 3, \"number_of_clbits\": 3, \"qubit_labels\": [[\"q3\", 0], [\"q3\", 1], [\"q3\", 2]], \"clbit_labels\": [[\"c3\", 3]], \"name\": \"circuit4\", \"compiled_circuit_qasm\": \"OPENQASM 2.0;\\\\ninclude \\\\\"qelib1.inc\\\\\";\\\\nqreg q3[3];\\\\ncreg c3[3];\\\\nmeasure q3[1] -> c3[1];\\\\nu3(3.14159265358979,0,3.14159265358979) q3[2];\\\\nmeasure q3[2] -> c3[2];\\\\nu3(3.14159265358979,0,3.14159265358979) q3[0];\\\\nmeasure q3[0] -> c3[0];\\\\n\"}, \"config\": {\"coupling_map\": \"all-to-all\", \"basis_gates\": \"u1,u2,u3,cx,id\", \"layout\": null, \"memory_slots\": 3, \"n_qubits\": 3}}], \"header\": {\"backend_name\": \"ibmq_qasm_simulator\"}, \"type\": \"QASM\", \"schema_version\": \"1.0.0\"}'\n"
     ]
    }
   ],
   "source": [
    "#hpc staging\n",
    "name = 'ibmq_qasm_simulator'\n",
    "backend = staging_provider.backends[name]\n",
    "test_backend(backend,name)"
   ]
  },
  {
   "cell_type": "code",
   "execution_count": null,
   "metadata": {},
   "outputs": [],
   "source": []
  }
 ],
 "metadata": {
  "kernelspec": {
   "display_name": "Python 3",
   "language": "python",
   "name": "python3"
  },
  "language_info": {
   "codemirror_mode": {
    "name": "ipython",
    "version": 3
   },
   "file_extension": ".py",
   "mimetype": "text/x-python",
   "name": "python",
   "nbconvert_exporter": "python",
   "pygments_lexer": "ipython3",
   "version": "3.6.6"
  }
 },
 "nbformat": 4,
 "nbformat_minor": 2
}
